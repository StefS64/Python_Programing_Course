{
 "cells": [
  {
   "cell_type": "markdown",
   "id": "e9522640-a153-46ff-bd1e-beffa430b807",
   "metadata": {},
   "source": [
    "# First Programs in Python\n",
    "You can multiply words with numbers:"
   ]
  },
  {
   "cell_type": "code",
   "execution_count": null,
   "id": "a4035058-13d7-4478-ad8c-1774386b314f",
   "metadata": {},
   "outputs": [],
   "source": [
    "print(\"Hello World \" * 10)"
   ]
  },
  {
   "cell_type": "markdown",
   "id": "6a96cbf3-66f1-4930-960b-efabc39b11d0",
   "metadata": {},
   "source": [
    "# Intruduction to Jupyter Lab\n",
    "Quick list of tips:\n",
    "- Firstly you can Collapse the cell by clicking the blue stripe on the left of clicking \" \"\n",
    "- Also you can use normal latex expresions $\\frac{x}{y}$ and it works normaly\n",
    "- After clicking escape you can change the type of cell by only clicking the right letter."
   ]
  },
  {
   "cell_type": "markdown",
   "id": "7edf5285-26bc-4a56-8d6e-4b334a673b05",
   "metadata": {},
   "source": []
  }
 ],
 "metadata": {
  "kernelspec": {
   "display_name": "Python 3 (ipykernel)",
   "language": "python",
   "name": "python3"
  },
  "language_info": {
   "codemirror_mode": {
    "name": "ipython",
    "version": 3
   },
   "file_extension": ".py",
   "mimetype": "text/x-python",
   "name": "python",
   "nbconvert_exporter": "python",
   "pygments_lexer": "ipython3",
   "version": "3.10.12"
  }
 },
 "nbformat": 4,
 "nbformat_minor": 5
}
