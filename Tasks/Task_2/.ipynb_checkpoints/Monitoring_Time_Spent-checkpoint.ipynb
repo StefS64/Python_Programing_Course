{
 "cells": [
  {
   "cell_type": "markdown",
   "metadata": {},
   "source": [
    "### Kilka uwag do zadania"
   ]
  },
  {
   "cell_type": "markdown",
   "metadata": {},
   "source": [
    "Wskazówka 1 - sortowanie"
   ]
  },
  {
   "cell_type": "code",
   "execution_count": 1,
   "metadata": {},
   "outputs": [
    {
     "data": {
      "text/plain": [
       "[1, 2, 3, 5, 7]"
      ]
     },
     "execution_count": 1,
     "metadata": {},
     "output_type": "execute_result"
    }
   ],
   "source": [
    "l = [2,3,7,5,1]\n",
    "sorted(l)"
   ]
  },
  {
   "cell_type": "markdown",
   "metadata": {},
   "source": [
    "Wskazówka 2 - wczytywanie"
   ]
  },
  {
   "cell_type": "code",
   "execution_count": 2,
   "metadata": {},
   "outputs": [
    {
     "name": "stdin",
     "output_type": "stream",
     "text": [
      "Podaj napis:  as\n"
     ]
    },
    {
     "name": "stdout",
     "output_type": "stream",
     "text": [
      "Twój napis to `as`\n"
     ]
    }
   ],
   "source": [
    "x = input(\"Podaj napis: \")\n",
    "print(\"Twój napis to `\" + x + \"`\")"
   ]
  },
  {
   "cell_type": "markdown",
   "metadata": {},
   "source": [
    "# Zadanie domowe:\n",
    "Zadanie: Śledzenie Spędzonego Czasu\n",
    "\n",
    "Stwórz program, który pozwala śledzić czas spędzony na różnych aktywnościach. Użyj słownika do przechowywania danych o aktywnościach oraz listy do śledzenia czasu spędzonego na każdej z nich. Program powinien mieć trzy główne funkcje:\n",
    "* Dodaj Aktywność: Użytkownik może dodać nową aktywność do śledzenia. Jeśli aktywność już istnieje, program powinien tylko zaktualizować ją o nowy czas. Struktura danych może wyglądać tak:\n",
    "    {\n",
    "    'Aktywność 1': [czas1, czas2, czas3, ...],\n",
    "    'Aktywność 2': [czas1, czas2, czas3, ...],\n",
    "    ...\n",
    "}\n",
    "* Pokaż Czas: Użytkownik może wybrać aktywność i zobaczyć, ile łącznie czasu spędził na niej.\n",
    "* Pokaż Top Aktywności: Program powinien pokazać top 3 aktywności, na których użytkownik spędził najwięcej czasu."
   ]
  },
  {
   "cell_type": "code",
   "execution_count": 29,
   "metadata": {},
   "outputs": [],
   "source": [
    "# Deklaring the structure\n",
    "def track_aktive():\n",
    "    aktivity_table = {}\n",
    "    \n",
    "    def add_aktivity(aktivity, time):\n",
    "        if aktivity in aktivity_table:\n",
    "            aktivity_table[aktivity].append(time)\n",
    "        else:\n",
    "            aktivity_table[aktivity] = [time]\n",
    "    def show_aktivity_time(aktivity):\n",
    "        if aktivity in aktivity_table:\n",
    "            total_time = sum(aktivity_table[aktivity])\n",
    "            print(f\"Aktivity:  {aktivity}  Total time spent:  {total_time}\")\n",
    "        else:\n",
    "            print(\"User never had this aktivity \\n\")\n",
    "    def show_top_aktivitys():\n",
    "        sorted_activities = sorted(aktivity_table.items(), key=lambda x: sum(x[1]), reverse=True)\n",
    "        top_3 = sorted_activities[:3]\n",
    "            \n",
    "        print(\"Top 3 activities based on time spent:\")\n",
    "        for i, (activity, times) in enumerate(top_3, 1):\n",
    "            print(f\"{i}. {activity} - Total Time: {sum(times)}\")\n",
    "        else:\n",
    "            print(\"No activities to show.\\n\")\n",
    "        \n",
    "    def help():\n",
    "        print(\n",
    "                \"COMMANDS:\\n\"\n",
    "                \"add [aktivity] [time] - adds aktivity to ranking\\n\"\n",
    "                \"show [aktivity] - shows time spent on aktivity. \\n\"\n",
    "                \"top - shows 3 top aktivitys(longest time spent) \\n\"\n",
    "             )\n",
    "        \n",
    "    print(\"Welcome to aktivity tracker !!!\\n\")\n",
    "    help()\n",
    "    \n",
    "    x = input(\"What do you want to do?\\n \")\n",
    "    \n",
    "    while x != \"quit\":\n",
    "        elements = x.split(\" \")\n",
    "        command = elements[0]\n",
    "        if command == \"add\" and len(elements) == 3: \n",
    "            add_aktivity(elements[1], int(elements[2]))\n",
    "        elif command == \"show\" and len(elements) == 2:\n",
    "            show_aktivity_time(elements[1])\n",
    "        elif command == \"top\" and len(elements) == 1:\n",
    "            show_top_aktivitys()\n",
    "        else:\n",
    "            print(\"WRONG INPUT\\n\")\n",
    "            help()\n",
    "        x = input()"
   ]
  },
  {
   "cell_type": "code",
   "execution_count": null,
   "metadata": {},
   "outputs": [
    {
     "name": "stdout",
     "output_type": "stream",
     "text": [
      "Welcome to aktivity tracker !!!\n",
      "\n",
      "COMMANDS:\n",
      "add [aktivity] [time] - adds aktivity to ranking\n",
      "show [aktivity] - shows time spent on aktivity. \n",
      "top - shows 3 top aktivitys(longest time spent) \n",
      "\n"
     ]
    },
    {
     "name": "stdin",
     "output_type": "stream",
     "text": [
      "What do you want to do?\n",
      "  add run 23\n",
      " add run 123\n",
      " add basket 12313\n"
     ]
    }
   ],
   "source": [
    "track_aktive()"
   ]
  },
  {
   "cell_type": "code",
   "execution_count": null,
   "metadata": {},
   "outputs": [],
   "source": []
  }
 ],
 "metadata": {
  "kernelspec": {
   "display_name": "Python 3 (ipykernel)",
   "language": "python",
   "name": "python3"
  },
  "language_info": {
   "codemirror_mode": {
    "name": "ipython",
    "version": 3
   },
   "file_extension": ".py",
   "mimetype": "text/x-python",
   "name": "python",
   "nbconvert_exporter": "python",
   "pygments_lexer": "ipython3",
   "version": "3.10.12"
  }
 },
 "nbformat": 4,
 "nbformat_minor": 4
}
