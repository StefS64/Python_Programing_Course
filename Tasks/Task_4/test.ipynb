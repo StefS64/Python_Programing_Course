{
 "cells": [
  {
   "cell_type": "code",
   "execution_count": null,
   "id": "d4d4aeb6-5e7b-4b64-ba40-96f7b2daa9b5",
   "metadata": {},
   "outputs": [],
   "source": [
    "list(map(lambda x: 'a'*x if x else \"zero!\", range(5)))\n",
    "\n",
    "def aha(int a):\n",
    "    a += 1"
   ]
  },
  {
   "cell_type": "markdown",
   "id": "7623d040-8f4a-42fc-bd2c-ebf9ae31d418",
   "metadata": {},
   "source": [
    "# THIS is a test file to see if the code above will be extractes\n",
    "## Ćwiczenie 1\n"
   ]
  },
  {
   "cell_type": "code",
   "execution_count": null,
   "id": "e8258353-1cd9-406d-90a7-a38e32c06630",
   "metadata": {},
   "outputs": [],
   "source": [
    "for(i in range(5);"
   ]
  }
 ],
 "metadata": {
  "kernelspec": {
   "display_name": "Python 3 (ipykernel)",
   "language": "python",
   "name": "python3"
  },
  "language_info": {
   "codemirror_mode": {
    "name": "ipython",
    "version": 3
   },
   "file_extension": ".py",
   "mimetype": "text/x-python",
   "name": "python",
   "nbconvert_exporter": "python",
   "pygments_lexer": "ipython3",
   "version": "3.10.12"
  }
 },
 "nbformat": 4,
 "nbformat_minor": 5
}
