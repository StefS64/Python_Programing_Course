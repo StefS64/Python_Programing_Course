{
 "cells": [
  {
   "cell_type": "markdown",
   "id": "cef6d53e-93d7-42e0-995e-65a590bb3d08",
   "metadata": {},
   "source": [
    "# Zadanie domowe 10\n",
    "\n",
    "Zrobić animację w formacie GIF pokazującą działanie Centralnego Twierdzenia Granicznego dla niezależnych zmiennych losowych pochodzących z rozkładu wykładniczego bądź wybranego przez siebie innego rozkładu prawdopodobieństwa. Pomocny może być następujący przykład: [https://matplotlib.org/stable/gallery/animation/animated_histogram.html](https://matplotlib.org/stable/gallery/animation/animated_histogram.html). Rozwiązaniem powinien być kod w Pythonie tworzący plik GIF."
   ]
  },
  {
   "cell_type": "code",
   "execution_count": null,
   "id": "extraordinary-advice",
   "metadata": {
    "ExecuteTime": {
     "end_time": "2024-12-11T11:45:55.806959Z",
     "start_time": "2024-12-11T11:45:46.844526Z"
    }
   },
   "outputs": [
    {
     "name": "stdout",
     "output_type": "stream",
     "text": [
      "[5, 10, 16, 23, 31, 40, 50, 61, 73, 86, 100, 115, 131, 148, 166, 185, 205, 226, 248, 271, 295, 320, 346, 373, 401, 430, 460, 491, 523, 556, 590, 625, 661, 698, 736, 775, 815, 856, 898, 941, 985, 1000]\n"
     ]
    }
   ],
   "source": [
    "# We'll use exponential distribution.\n",
    "\n",
    "import numpy as np\n",
    "import matplotlib.pyplot as plt\n",
    "import matplotlib.animation as animation\n",
    "from scipy.stats import expon\n",
    "\n",
    "def create_array(step, N):\n",
    "    result = []\n",
    "    current = step\n",
    "    while current < N:\n",
    "        result.append(current)\n",
    "        current += step\n",
    "        step += 1\n",
    "    result.append(N)\n",
    "    return result\n",
    "\n",
    "def normal_pdf(x, mu=0, sigma=1):\n",
    "    return 1/(sigma * np.sqrt(2 * np.pi)) * np.exp(-0.5 * ((x - mu) / sigma)**2)\n",
    "\n",
    "lambda_exp = 1.0\n",
    "\n",
    "plt.rcParams[\"animation.html\"] = \"jshtml\"\n",
    "\n",
    "# Number of repetitions for each sample size.\n",
    "repetitions = 10000\n",
    "max_sample_size = 1000\n",
    "\n",
    "Ns = create_array(5, max_sample_size);\n",
    "# print(Ns);\n",
    "\n",
    "# First, we'll create the figure and the axis.\n",
    "fig, ax = plt.subplots(figsize=(10, 6))\n",
    "\n",
    "# We'll set up constant elements of the plot.\n",
    "ax.set_xlabel('Sample mean', fontsize=20)\n",
    "ax.set_ylabel('Density', fontsize=20)\n",
    "ax.set_xlim(-5, 5)\n",
    "ax.set_ylim(0, 0.45)\n",
    "\n",
    "# We'll create the line object that will plot the normal PDF.\n",
    "line, = ax.plot([], [], color='#0492C2', label='Normal PDF', linewidth=2)\n",
    "\n",
    "def animate(i):\n",
    "    sample_size = Ns[i]\n",
    "\n",
    "    Us = np.zeros(repetitions)\n",
    "    # We'll generate the sample_size samples from the normal distribution.\n",
    "    for r in range(repetitions):\n",
    "        samples = expon.rvs(size=sample_size, scale=1./lambda_exp)\n",
    "\n",
    "        # Now we calculate the statistics as in the CLT theorem.\n",
    "        Us[r] = (np.mean(samples) - 1./lambda_exp) / (1./lambda_exp / np.sqrt(sample_size))\n",
    "\n",
    "    # We clear the previous histogram.\n",
    "    ax.clear()\n",
    "    \n",
    "    # Then we plot the histogram of the sample means.\n",
    "    ax.hist(Us, bins=100, density=True, color='#0492C2', alpha=0.7)\n",
    "\n",
    "    # Then we plot the normal PDF for comparison.\n",
    "    ax.plot(np.linspace(-5, 5, 100), normal_pdf(np.linspace(-5, 5, 100)), color='red', label='Normal PDF', linewidth=2)\n",
    "\n",
    "    # Finally, we set the dynamically updated title.\n",
    "    ax.set_title(f'Sample mean distribution for N = {sample_size}', fontsize=20)\n",
    "\n",
    "    return line,\n",
    "\n",
    "# At the end, we create the animation object, save it as a GIF file and display it.\n",
    "anim = animation.FuncAnimation(fig, animate, frames=len(Ns), interval=1000, blit=True)\n",
    "anim.save('CLT.gif', writer='pillow')\n",
    "plt.close()\n",
    "anim"
   ]
  },
  {
   "cell_type": "code",
   "execution_count": null,
   "id": "48f46f6a-e051-456e-86cc-83fadca34fe0",
   "metadata": {},
   "outputs": [],
   "source": []
  }
 ],
 "metadata": {
  "kernelspec": {
   "display_name": "Python 3 (ipykernel)",
   "language": "python",
   "name": "python3"
  },
  "language_info": {
   "codemirror_mode": {
    "name": "ipython",
    "version": 3
   },
   "file_extension": ".py",
   "mimetype": "text/x-python",
   "name": "python",
   "nbconvert_exporter": "python",
   "pygments_lexer": "ipython3",
   "version": "3.10.12"
  }
 },
 "nbformat": 4,
 "nbformat_minor": 5
}
