{
 "cells": [
  {
   "cell_type": "markdown",
   "id": "e6c1b4d6",
   "metadata": {},
   "source": [
    "# Zadanie dnia"
   ]
  },
  {
   "cell_type": "markdown",
   "id": "421c5c1b",
   "metadata": {},
   "source": [
    "# Zadanie 1"
   ]
  },
  {
   "cell_type": "markdown",
   "id": "dd186b27",
   "metadata": {},
   "source": [
    "* Należy pobrać z wykorzystaniem pakietów requests, Beautiful Soup wszystkie wydarzenia zamieszczone w harmonogramie na stronie https://www.mimuw.edu.pl/. \n",
    "* Proszę napisać scraper w taki sposób, aby w efekcie działania zapisywał informacje jako lista słowników, których kluczami są tytuł, url do wydarzenia oraz jego data i godzina.\n",
    "* Otrzymane dane proszę zapisać w formacie csv/xlsx - pomocne może być wykorzystanie ramki danych (pakiet pandas) i metody from_dict.\n",
    "* Na koniec - prosze o wyświetlenie pięciu losowych wydarzeń z listy pobranych (tytuł, url, data)."
   ]
  },
  {
   "cell_type": "code",
   "execution_count": 16,
   "id": "d2e04e76",
   "metadata": {},
   "outputs": [
    {
     "name": "stdout",
     "output_type": "stream",
     "text": [
      "Found the following calendar events:\n",
      "               Name                                              Title  \\\n",
      "14  Talk on seminar                                                      \n",
      "12  Talk on seminar  Normalized solutions to elliptic problems - ne...   \n",
      "8   Talk on seminar     Diversity and evolution of the economic system   \n",
      "7   Talk on seminar  A Euclidean Embedding for Computing Persistent...   \n",
      "5   Talk on seminar               Bregman variation of semimartingales   \n",
      "\n",
      "                Date             Speaking  \\\n",
      "14  2024-11-20 10:30     Kasia Jankiewicz   \n",
      "12  2024-11-21 12:30  Bartosz Bieganowski   \n",
      "8   2024-11-20 14:15        Elżbieta Pliś   \n",
      "7   2024-11-22 14:15          Kunal Dutta   \n",
      "5   2024-11-21 12:15        Dominik Kutek   \n",
      "\n",
      "                                                 Link  Room  \n",
      "14  https://mimuw.edu.pl/en/seminars/talk_pl/wlasn...  4070  \n",
      "12  https://mimuw.edu.pl/en/seminars/talk/normaliz...  5070  \n",
      "8   https://mimuw.edu.pl/en/seminars/talk/diversit...  5070  \n",
      "7   https://mimuw.edu.pl/en/seminars/talk/a-euclid...  5060  \n",
      "5   https://mimuw.edu.pl/en/seminars/talk/bregman-...  3160  \n"
     ]
    }
   ],
   "source": [
    "from selenium import webdriver\n",
    "from selenium.webdriver.common.by import By\n",
    "from bs4 import BeautifulSoup\n",
    "import pandas as pd\n",
    "driver = webdriver.Chrome()\n",
    "driver.get(\"https://www.mimuw.edu.pl/en/\")\n",
    "driver.implicitly_wait(0.5)\n",
    "# Można teraz dokonywać interakcji ze stroną, np. klikając w przyciski, wypełniając formularze itp.\n",
    "# Źródło strony\n",
    "#print(driver.page_source)\n",
    "def extract_from_doctorate(html):\n",
    "    date = \"no date\"\n",
    "    Title= \"no title\"\n",
    "    link= \"no link\"\n",
    "    room= \"no room\"\n",
    "    speaker= \"no speaker\"\n",
    "    soup = BeautifulSoup(html, 'html.parser')\n",
    "    tooltip = soup.find('div', class_='calendar-tooltip')\n",
    "    event_elements = tooltip.find_all('tr')\n",
    "    header = tooltip.find('div', class_='calendar-tooltip-header').text\n",
    "    if not event_elements:\n",
    "        return \"No events found.\"\n",
    "    for info in event_elements:\n",
    "        label = info.find('td', class_='calendar-tooltip-label')\n",
    "        text = info.find('td', class_='calendar-tooltip-text')\n",
    "        # print(label.text, text.text)\n",
    "        if label and text:\n",
    "            if(label.text == \"From\"):\n",
    "                date = text.text\n",
    "            elif(label.text == \"Title\" or label.text == \"Thesis\"):\n",
    "                Title = text.text\n",
    "                linked = text.find('a')\n",
    "                if linked:\n",
    "                    link = linked['href']\n",
    "                    if not link.startswith('https'):\n",
    "                        link = 'https://mimuw.edu.pl' + link\n",
    "            elif(label.text == \"Link\"):\n",
    "                link = text.find('a')['href']\n",
    "            elif(label.text == \"Room\"):\n",
    "                room = text.text\n",
    "            elif(label.text == \"Speaker(s)\" or label.text == \"Phd Student\"):\n",
    "                speaker = text.text\n",
    "    return {'Name': header, 'Title': Title,'Date': date, 'Speaking': speaker, 'Link': link, 'Room': room}                \n",
    "\n",
    "\n",
    "\n",
    "calendar_events = driver.find_elements(By.CLASS_NAME, 'calendar-event')\n",
    "#print(calendar_events)\n",
    "if calendar_events:\n",
    "    events_list = []\n",
    "    print(\"Found the following calendar events:\")\n",
    "    for index, event in enumerate(calendar_events, start=1):\n",
    "        full = event.get_attribute(\"outerHTML\")\n",
    "        row = extract_from_doctorate(full)\n",
    "        events_list.append(row)\n",
    "    df = pd.DataFrame(events_list)\n",
    "\n",
    "    random_sample = df.sample(5)\n",
    "    random_sample.to_csv('calendar_events.csv', index=False)\n",
    "    # Tutaj nie znalazłem lepszego sposobu na wyświetlanie tablicy.\n",
    "    print(random_sample)\n",
    "else:\n",
    "    print(\"No calendar events found.\")"
   ]
  },
  {
   "cell_type": "markdown",
   "id": "7fe6b588",
   "metadata": {},
   "source": [
    "# Zadanie 2"
   ]
  },
  {
   "cell_type": "markdown",
   "id": "ad7bd102",
   "metadata": {},
   "source": [
    "Należy wybrać dowolną stronę internetową (zgodnie z zainteresowaniami), która zezwala na pobieranie danych. Następnie proszę dokonać pobierania wybranych przez Państwa treści. Można spróbować wykorzystac Selenium, chociaż requests + Beautiful Soup są wystarczające. Uzasadnić do czego takie dane mogą się Państwu przydać.  "
   ]
  }
 ],
 "metadata": {
  "kernelspec": {
   "display_name": "Python 3 (ipykernel)",
   "language": "python",
   "name": "python3"
  },
  "language_info": {
   "codemirror_mode": {
    "name": "ipython",
    "version": 3
   },
   "file_extension": ".py",
   "mimetype": "text/x-python",
   "name": "python",
   "nbconvert_exporter": "python",
   "pygments_lexer": "ipython3",
   "version": "3.10.12"
  }
 },
 "nbformat": 4,
 "nbformat_minor": 5
}
