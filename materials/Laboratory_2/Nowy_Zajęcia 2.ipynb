{
 "cells": [
  {
   "cell_type": "markdown",
   "id": "615a1bb013aedac3",
   "metadata": {},
   "source": [
    "# Materiały do kursu Pythona\n",
    "\n",
    "***Motto: Python jest inny***"
   ]
  },
  {
   "cell_type": "markdown",
   "id": "27e2e1bed8018058",
   "metadata": {},
   "source": [
    "## Komentarze\n",
    "\n",
    "W każdym (prawie?) języku programowania można wpisywać komentarze. W Pythonie oczywiście też można. Wpisuje się je, zaczynając znakiem \\#. Komentarzem są wszystkie znaki od \\# (włącznie) aż do końca wiersza.\n",
    "\n"
   ]
  },
  {
   "cell_type": "code",
   "execution_count": 1,
   "id": "64e017ccec5d4c85",
   "metadata": {},
   "outputs": [],
   "source": [
    "# To jest komentarz!\n",
    "# A to jest kolejny komentarz (kontynuacja poprzedniego)."
   ]
  },
  {
   "cell_type": "markdown",
   "id": "813348b5d59fbc35",
   "metadata": {},
   "source": [
    "Komentarz nie musi się zaczynać od początku wiersza. Może następować w wierszu po kodzie Pythonowym (bardzo często pisze się takie komentarze)."
   ]
  },
  {
   "cell_type": "code",
   "execution_count": 2,
   "id": "9690352a896f3de4",
   "metadata": {},
   "outputs": [
    {
     "data": {
      "text/plain": [
       "3"
      ]
     },
     "execution_count": 2,
     "metadata": {},
     "output_type": "execute_result"
    }
   ],
   "source": [
    "1+2    # To w zasadzie jasne, ale na wszelki wypadek: wartością tego wyrażenia jest 3. (To jest tylko przykład składni komentarzy w Pythonie ani kod w tym wierszu ani komentarz nie stanowią wzoru do naśladowania)."
   ]
  },
  {
   "cell_type": "markdown",
   "id": "44f397d233f7386f",
   "metadata": {},
   "source": [
    "## Technikalia\n",
    "* Znak \\# będący częścią literału tekstowego nie zaczyna komentarza.\n",
    "* Komentarz o specjalnej formie zapisany w pierwszym (lub w drugim, o ile pierwszy był komentarzem) wierszu pliku oznacza kodowanie w jakim zapisano plik. Nie warto z tego korzystać, bo (od Pythona 3) domyślnym kodowaniem jest UTF-8 (czyli *to* kodowanie). Python akceptuje także BOM na początku pliku z programem."
   ]
  },
  {
   "cell_type": "markdown",
   "id": "629504680451617c",
   "metadata": {},
   "source": [
    "# Literały\n",
    "Często opis języka programowania zaczyna się od literałów. W zasadzie robimy tu tak samo. (Mały komentarz: jednak zaczęliśmy od komentarzy).\n",
    "\n",
    "Co to są literały? Wartości zapisane bezpośrednio (literalnie) w kodzie programu. W Pythonie mamy literały tekstowe i liczbowe (liczne)[^1].\n",
    "\n",
    "Zwróćmy uwagę, że nie ma tu literałów znakowych. Ani logicznych, ani wartości None:\n",
    "* Typu znakowego nie ma w Pythonie (tak, to dziwne).\n",
    "* *True* i *False* (zwróćmy uwagę, że pisane z wielkiej litery) to słowa kluczowe, ich użycie daje wartości typu logicznego (prawda i fałsz).\n",
    "* *None* to słowo kluczowe dające wartość-zaślepkę (analogiczną do null w Javie).\n",
    "\n",
    "[^1]: Kwestia (nie)bycia literałem jest w Pythonie dość subtelna, wielu autorów za literały uznaje słowa kluczowe None, True i False (opisane w tym podrozdziale) oraz wyrażenia reprezentujące kolekcje (będą omawiane później).   "
   ]
  },
  {
   "cell_type": "code",
   "execution_count": 3,
   "id": "72c8a72ce21782f6",
   "metadata": {},
   "outputs": [
    {
     "data": {
      "text/plain": [
       "(True, False, None)"
      ]
     },
     "execution_count": 3,
     "metadata": {},
     "output_type": "execute_result"
    }
   ],
   "source": [
    "True, False, None"
   ]
  },
  {
   "cell_type": "markdown",
   "id": "ed777547e5b33e65",
   "metadata": {},
   "source": [
    "# Literały tekstowe\n",
    "Sprawdźmy jak je zapisywać: W cudzysłowach? A może w apostrofach? A może w parach cudzysłowów/apostrofów? Trójkach? Czwórkach? Spróbujmy tych ośmiu możliwości z tekstem *Python*."
   ]
  },
  {
   "cell_type": "code",
   "execution_count": 4,
   "id": "54887eb6ccba8a53",
   "metadata": {},
   "outputs": [
    {
     "data": {
      "text/plain": [
       "'Python'"
      ]
     },
     "execution_count": 4,
     "metadata": {},
     "output_type": "execute_result"
    }
   ],
   "source": [
    "'Python'\n",
    "\"Python\"\n",
    "#''Python''\n",
    "#\"\"Python\"\"\n",
    "'''Python'''\n",
    "\"\"\"Python\"\"\"\n",
    "# ''''Python''''\n",
    "#\"\"\"\"Python\"\"\"\""
   ]
  },
  {
   "cell_type": "markdown",
   "id": "43406ba0f7a05a8a",
   "metadata": {},
   "source": [
    "Skoro mamy różne notacje, to sprawdźmy, czy oznaczają one te same rzeczy. W Pythonie do testowania równości napisów służy operator porównywania, o znanej nam z C czy Javy postaci: ==. Jest to ogólny operator porównywania, nie tylko napisów (np. można nim porównywać liczby). Sprawdź, czy trzy odkryte przez Ciebie dozwolone formy zapisania napisu *Python* są sobie równe.\n",
    "\n",
    "Przypomnienie, na wszelki wypadek: \n",
    "* Czy w C operator == zastosowany do napisów char* da dobry wynik? Dlaczego?\n",
    "* Czy w Javie operator == zastosowany do napisów da dobry wynik? Dlaczego?"
   ]
  },
  {
   "cell_type": "code",
   "execution_count": 5,
   "id": "4357d830d71bd64d",
   "metadata": {},
   "outputs": [
    {
     "data": {
      "text/plain": [
       "True"
      ]
     },
     "execution_count": 5,
     "metadata": {},
     "output_type": "execute_result"
    }
   ],
   "source": [
    "'Python' == \"Python\""
   ]
  },
  {
   "cell_type": "code",
   "execution_count": 6,
   "id": "b8f81a96075c3126",
   "metadata": {},
   "outputs": [
    {
     "data": {
      "text/plain": [
       "True"
      ]
     },
     "execution_count": 6,
     "metadata": {},
     "output_type": "execute_result"
    }
   ],
   "source": [
    "\"Python\" == \"\"\"Python\"\"\""
   ]
  },
  {
   "cell_type": "markdown",
   "id": "bfce89634661fa53",
   "metadata": {},
   "source": [
    "To czemu są trzy postaci? Zapisz w Pythonie napisy o kolejno następującej treści (numery nie są częściami tych napisów):\n",
    "1) Moodle'a\n",
    "2) Powiedziała \"Natychmiast zacznij programować w Pythonie!\"\n",
    "3) To pierwszy wiersz \\\n",
    "   długiego napisu. "
   ]
  },
  {
   "cell_type": "code",
   "execution_count": 7,
   "id": "df071a18e622465c",
   "metadata": {},
   "outputs": [
    {
     "data": {
      "text/plain": [
       "\"Moodle'a\""
      ]
     },
     "execution_count": 7,
     "metadata": {},
     "output_type": "execute_result"
    }
   ],
   "source": [
    "\"Moodle'a\""
   ]
  },
  {
   "cell_type": "code",
   "execution_count": 8,
   "id": "84f52bb9b95c0728",
   "metadata": {},
   "outputs": [
    {
     "data": {
      "text/plain": [
       "'Powiedziała \"Natychmiast zacznij programować w Pythonie!\"'"
      ]
     },
     "execution_count": 8,
     "metadata": {},
     "output_type": "execute_result"
    }
   ],
   "source": [
    "'Powiedziała \"Natychmiast zacznij programować w Pythonie!\"'"
   ]
  },
  {
   "cell_type": "code",
   "execution_count": 9,
   "id": "407b2bdea8d7f4ed",
   "metadata": {},
   "outputs": [
    {
     "data": {
      "text/plain": [
       "'To pierwszy wiersz\\n   długiego napisu.'"
      ]
     },
     "execution_count": 9,
     "metadata": {},
     "output_type": "execute_result"
    }
   ],
   "source": [
    "\"\"\"To pierwszy wiersz\n",
    "   długiego napisu.\"\"\""
   ]
  },
  {
   "cell_type": "markdown",
   "id": "9adff6fba09766e4",
   "metadata": {},
   "source": [
    "Jak widać te cztery różne sposoby zapisu literałów tekstowych mają sens i są przydatne. Nie ma żadnej różnicy pomiędzy literałami ujętymi w apostrofy i ujętymi w cudzysłowy. Literały ujęte w trójki cudzysłowów lub trójki apostrofów mogą być wielowierszowe (w przeciwieństwie do zwykłych literałów). Poznamy jeszcze specjalne zastosowanie wielowierszowych literałów tekstowych.\n",
    "\n",
    "\n",
    "Uwaga: w Pythonie nie ma osobnych wartości typu znakowego. Znaki to napisy długości 1."
   ]
  },
  {
   "cell_type": "markdown",
   "id": "f7cd70dff48c22e3",
   "metadata": {},
   "source": [
    "Do liczenia długości napisów (i - co ważne i miłe - nie tylko) służy funkcja *len*. Policz za jej pomocą długość nazwy Twojego ulubionego języka programowania (na wszelki wypadek: powinno wyjść 6)."
   ]
  },
  {
   "cell_type": "code",
   "execution_count": 10,
   "id": "92b575e7951a1183",
   "metadata": {},
   "outputs": [
    {
     "data": {
      "text/plain": [
       "6"
      ]
     },
     "execution_count": 10,
     "metadata": {},
     "output_type": "execute_result"
    }
   ],
   "source": [
    "len('Python')"
   ]
  },
  {
   "cell_type": "markdown",
   "id": "e860312462e0999d",
   "metadata": {},
   "source": [
    "Tak jak w wielu innych językach w Pythonie są specjalne sekwencje znaków opisujące znaki, które inaczej byłyby trudne do zapisania. Wszystkich nie będziemy tu omawiać, ale niektóre są warte zapamiętania: \\n, \\\\\\\\\\\\, \\\\', \\\\\". Sprawdź długość napisów złożonych z tych sekwencji specjalnych. Dla upewnienia się, że ta notacja dobrze działa w przypadku apostrofów i cudzysłowów (' i \") użyj takiego samego ogranicznika literału tekstowego jak zamieszczony w literale znak.\n",
    "\n",
    "**Uwaga**: ponieważ domyślnie Jupyter wyświetla wartość tylko ostatniej instrukcji (u nas to na razie same wyrażenia) w komórce, warto zastosować składnię (omówimy jej znaczenie później), pozwalającą zapisać wiele wyrażeń, jedno po drugim, rozdzielając je przecinkami. "
   ]
  },
  {
   "cell_type": "code",
   "execution_count": null,
   "id": "79af1c2242177c14",
   "metadata": {},
   "outputs": [],
   "source": [
    "len(\"\\\"\"), len('\\''), len('\\n'), len('\\\\')"
   ]
  },
  {
   "cell_type": "markdown",
   "id": "75c1689ff761039c",
   "metadata": {},
   "source": [
    "Napisy w Pythonie można dodawać (do napisów) i mnożyć (przez liczby całkowite). Sprawdź wartości podanych wyrażeń: 'Py' + \"ton\", 3 * '-', \"=\" * 5, 0 * \"+\", \"/\" * -126"
   ]
  },
  {
   "cell_type": "code",
   "execution_count": null,
   "id": "e94bace306ddf27b",
   "metadata": {},
   "outputs": [],
   "source": [
    "'Py' + \"ton\", 3 * '-', \"=\" * 5, 0 * \"+\", \"/\" * -126"
   ]
  },
  {
   "cell_type": "markdown",
   "id": "a3939f2d2294e4c9",
   "metadata": {},
   "source": [
    "# Literały liczbowe\n",
    "\n",
    "Kolejnymi wartościami dostępnymi w Pythonie są liczby całkowite. Policzmy ile sekund mamy co roku (nieprzestępnego) do dyspozycji."
   ]
  },
  {
   "cell_type": "code",
   "execution_count": null,
   "id": "38bd460b48e54917",
   "metadata": {},
   "outputs": [],
   "source": [
    "365*24*60*60"
   ]
  },
  {
   "cell_type": "markdown",
   "id": "a5801fd5de9490f7",
   "metadata": {},
   "source": [
    "Czyli liczby całkowite są tu takie same ja wszędzie (C, Java)? No, niezupełnie. Policzmy silnię (funkcja factorial) dla 5, 10, 20, ... do ilu się da.  \n",
    "**Uwaga**: żeby móc użyć tej funkcji musimy najpierw zaimportować moduł *math* pisząc `from math import *`. Dlaczego można i dlaczego nie należy tak pisać powiemy później."
   ]
  },
  {
   "cell_type": "code",
   "execution_count": null,
   "id": "d9db43c9e8af480",
   "metadata": {},
   "outputs": [],
   "source": [
    "from math import *\n",
    "factorial(5), factorial(10), factorial(20), factorial(100), factorial(500), factorial(1000), factorial(1500) #, factorial(1559)"
   ]
  },
  {
   "cell_type": "markdown",
   "id": "a62a0169dc99db9f",
   "metadata": {},
   "source": [
    "W Pythonie są też liczby rzeczywiste, tu bez zaskoczeń. Należy tylko pamiętać o zapisie liczb rzeczywistych w krajach anglojęzycznych (a w konsekwencji w językach programowania), czyli z kropką, a nie przecinkiem,\n",
    " jako separatorem części ułamkowej.\n",
    "\n",
    "Policzmy pole powierzchni Ziemi, wiedząc, że jej promień to około 6371 km. \n",
    "Możemy skorzystać z wartości `pi`, ponieważ zaimportowaliśmy wcześniej moduł `math`. Zamiast pisać `x*x` można napisać `x**2` \n",
    "(Python ma operator potęgowania zapisywany `**`). Działania są wykonywane od lewej do prawej (chyba że inaczej wskazują priorytety operatorów lub nawiasy). \n",
    "Na razie nie przejmujmy się formatem wypisywania. Sprawdźmy też przy okazji, który operator ma wyższy priorytet w Pythonie (`*` czy `**`), czyli czy potrzeba użyć nawiasów."
   ]
  },
  {
   "cell_type": "code",
   "execution_count": null,
   "id": "c0065078dae5b4c7",
   "metadata": {},
   "outputs": [],
   "source": [
    "4*pi*6371**2"
   ]
  },
  {
   "cell_type": "markdown",
   "id": "a6a9d58628888a37",
   "metadata": {},
   "source": [
    "Wiedząc teraz, że powierzchnia lądowa Polski to ok. 311 895 $km^2$, policz ile Polsk zmieściłoby się na powierzchni Ziemi (całej, łącznie z oceanami)."
   ]
  },
  {
   "cell_type": "code",
   "execution_count": null,
   "id": "4c1e30d7dab8db4b",
   "metadata": {},
   "outputs": [],
   "source": [
    "4*pi*6371**2/311895"
   ]
  },
  {
   "cell_type": "markdown",
   "id": "3253a8ff34217396",
   "metadata": {},
   "source": [
    "Do zapisu liczb rzeczywistych możemy też stosować notację naukową (zwaną też inżynierską), np. 1e3. Sprawdźmy to na kilku przykładach."
   ]
  },
  {
   "cell_type": "code",
   "execution_count": null,
   "id": "b620abc66f0b8a0b",
   "metadata": {},
   "outputs": [],
   "source": [
    "1e3, 1.2e10, 13e-23"
   ]
  },
  {
   "cell_type": "markdown",
   "id": "7d14f4c454d1d130",
   "metadata": {},
   "source": [
    "W przeciwieństwie do liczb całkowitych zakres liczb rzeczywistych podlega w Pythonie ścisłym ograniczeniom (tak samo, jak w Javie czy C). Sprawdźmy stałe 1e308 i 1e309 oraz 1e-323 i 1e-324. "
   ]
  },
  {
   "cell_type": "code",
   "execution_count": null,
   "id": "5c84fb1e68b1e628",
   "metadata": {},
   "outputs": [],
   "source": [
    "1e308, 1e309, 1e-323, 1e-324"
   ]
  },
  {
   "cell_type": "markdown",
   "id": "f07a325426ad103e",
   "metadata": {},
   "source": [
    "Więcej informacji można znaleźć, wywołując funkcję sys.float_info."
   ]
  },
  {
   "cell_type": "markdown",
   "id": "3ebe6608643683d4",
   "metadata": {},
   "source": [
    "Python wspiera też liczby zespolone (raczej nie będziemy z nich korzystać). Do ich zapisu używa litery j (a nie i!) poprzedzonej liczba (*bez* znaku mnożenia). Policzmy, ile to jest $(1+3*i)*(1-3*i)$. Uwaga: tu użyto zapisu matematycznego, a nie zapisu z Pythona!"
   ]
  },
  {
   "cell_type": "code",
   "execution_count": null,
   "id": "a88d3b713ed6721a",
   "metadata": {},
   "outputs": [],
   "source": [
    "(1+3j)*(1-3j)\n"
   ]
  },
  {
   "cell_type": "markdown",
   "id": "1b4894103cf52e41",
   "metadata": {},
   "source": [
    "W Pythonie jest też oczywiście typ wartości logicznych, z dwiema oczywistymi wartościami, oznaczonymi dość oczywistymi słowami kluczowymi, tyle że zapisywanymi z wielkiej litery. Upewnijmy się, że prawda nie jest fałszem używając stosownych literałów i operatora !=."
   ]
  },
  {
   "cell_type": "code",
   "execution_count": null,
   "id": "6f704cb975a679e2",
   "metadata": {},
   "outputs": [],
   "source": [
    "True != False"
   ]
  },
  {
   "cell_type": "markdown",
   "id": "d35fc17a79dd2ec5",
   "metadata": {},
   "source": [
    "Jak (prawie) każdy język Python daje możliwość stosowania operatorów porównań (z == i != już korzystaliśmy) dających wartości logiczne oraz z operatorów działających na wartościach logicznych. Te ostatnie zapisywane są słownie (a więc w czytelny dla humanoidalnych czytelników sposób). \n",
    "Sprawdźmy, czy (dowolnie wybrane) operatory porównań działają na liczbach całkowitych i rzeczywistych (to dość jasne, przynajmniej póki nie mieszamy typów), zaś wyniki połączmy w koniunkcje lub alternatywy, \n",
    "używając jeszcze po drodze negacji (chodzi o dowolny przykład)."
   ]
  },
  {
   "cell_type": "code",
   "execution_count": null,
   "id": "6128c4f3739ed701",
   "metadata": {},
   "outputs": [],
   "source": [
    "((1 <= 2) and (3.5 > pi)) or not (2 > 2.0) "
   ]
  },
  {
   "cell_type": "markdown",
   "id": "4020723b2702b325",
   "metadata": {},
   "source": [
    "To teraz sprawdźmy coś zupełnie nieoczywistego: czy możemy porównywać za sobą na większość (analogicznie: większość-równość, mniejszość, mniejszość-równość) wartości zespolone? A wartości zespolone z rzeczywistymi? Z całkowitymi? "
   ]
  },
  {
   "cell_type": "code",
   "execution_count": null,
   "id": "eb531917b9d471e3",
   "metadata": {},
   "outputs": [],
   "source": [
    "1j < 2j"
   ]
  },
  {
   "cell_type": "code",
   "execution_count": null,
   "id": "8d58c0f276e7d3bd",
   "metadata": {},
   "outputs": [],
   "source": [
    "1 < 1j"
   ]
  },
  {
   "cell_type": "markdown",
   "id": "9eb8a177a62420fa",
   "metadata": {},
   "source": [
    "# Operatory porównań i operatory logiczne \n",
    "\n",
    "Uzbrojeni w pozytywne i negatywne doświadczenia sprawdźmy, czy można porównywać ze sobą na mniejszość/większość napisy? Gdyby się okazało, że tak, to jaki porządek opisuje ta relacja (np. czy dłuższe napisy są większe od krótszych)? Przy okazji upewnijmy się, czy na pewno wielkie A jest większe od małego a. Świat potrafi czasem zaskakiwać."
   ]
  },
  {
   "cell_type": "code",
   "execution_count": null,
   "id": "52c8ba37c5a50c28",
   "metadata": {},
   "outputs": [],
   "source": [
    "\"Ala\" < \"Alabama\" and \"a\" > \"A\""
   ]
  },
  {
   "cell_type": "markdown",
   "id": "97007a3fc41ca37b",
   "metadata": {},
   "source": [
    "To jeszcze dla kompletności rozważań sprawdźmy, co się stanie, gdy spróbujemy porównać napis z liczbą. Najpierw sprawdźmy, czy napis jednoznakowy (np. 'A') jest równy liczbie odpowiadającej kodowi ASCII tego znaku. A potem zbadajmy, czy może jest mniejszy lub równy? Czy wyniki są podobne? "
   ]
  },
  {
   "cell_type": "code",
   "execution_count": 32,
   "id": "40ad4e32bb3920e5",
   "metadata": {
    "ExecuteTime": {
     "end_time": "2024-10-07T08:37:54.163172Z",
     "start_time": "2024-10-07T08:37:54.159374Z"
    }
   },
   "outputs": [
    {
     "data": {
      "text/plain": [
       "False"
      ]
     },
     "execution_count": 32,
     "metadata": {},
     "output_type": "execute_result"
    }
   ],
   "source": [
    "\"A\" == 65 "
   ]
  },
  {
   "cell_type": "code",
   "execution_count": null,
   "id": "a85054c08500c8d7",
   "metadata": {},
   "outputs": [],
   "source": [
    "\"A\" <= 65"
   ]
  },
  {
   "cell_type": "markdown",
   "id": "8f58a9ee5b7130d8",
   "metadata": {},
   "source": [
    "Hm, od kilku przykładów widzimy w Pythonie wprawdzie nie dokładnie takie same, ale podobne rozwiązania[^*], jak w innych językach programowania, więc może Python nie jest aż tak bardzo inny? \n",
    "No to na zakończenie tej części sprawdźmy, czy np. q jest małą łacińską literą (zwykle taki kod zapisujemy z użycie zmiennych, ale formalnie jeszcze nie wiemy, czy one w ogóle są w Pythonie, więc zastosujemy same literały).\n",
    "\n",
    "[^*]: Porównywanie znaków z liczbami zachowuje się inaczej, ale już wiemy, że w Pythonie nie ma typu znakowego (a więc i znaków), więc ten przykład można uznać za niebyły."
   ]
  },
  {
   "cell_type": "code",
   "execution_count": null,
   "id": "bd086efc2464aee4",
   "metadata": {},
   "outputs": [],
   "source": [
    "'a' <= 'q' and 'q' <= 'z'"
   ]
  },
  {
   "cell_type": "markdown",
   "id": "6748c308367d8461",
   "metadata": {},
   "source": [
    "No ale tak, to byśmy zapisali to porównanie np. w C czy C++. W Pythonie też możemy tak (właśnie to zrobiliśmy), ale możemy też skorzystać z łączenia (ang. chaining) operatorów."
   ]
  },
  {
   "cell_type": "code",
   "execution_count": null,
   "id": "3f44e521d5cbdd95",
   "metadata": {},
   "outputs": [],
   "source": [
    "'a' <= 'q' <= 'z'"
   ]
  },
  {
   "cell_type": "markdown",
   "id": "32fc43f71226b18",
   "metadata": {},
   "source": [
    "Python *jest* jednak inny!  \n",
    "\n",
    "Operatory porównań (<, >, ==, >=, <=, !=, is \\[not\\], \\[not\\] in) można łączyć w dowolnie długie sekwencje. Semantyka takiego zapisu to krótko wyliczana koniunkcja poszczególnych warunków, każdy argument (składnik sekwencji) jest wyliczany co najwyżej raz. Warunki dotyczą tylko sąsiednich argumentów.\n",
    "\n",
    "Zapisz, że 7 jest większe-równe od zera, także większe od 5, które z kolei jest mniejsze-równe od 9 (w praktyce takie warunki oczywiście zapisujmy ze zmiennymi).  \n",
    "\n",
    "Uwaga: ujęcie kolejnego/kolejnych porównania w nawiasy zmieni znaczenie użytego zapisu (i zapewne spowoduje błąd)."
   ]
  },
  {
   "cell_type": "code",
   "execution_count": 34,
   "id": "eed420eda298e088",
   "metadata": {
    "ExecuteTime": {
     "end_time": "2024-10-07T08:46:55.891923Z",
     "start_time": "2024-10-07T08:46:55.887512Z"
    }
   },
   "outputs": [
    {
     "data": {
      "text/plain": [
       "True"
      ]
     },
     "execution_count": 34,
     "metadata": {},
     "output_type": "execute_result"
    }
   ],
   "source": [
    "0 <= 7 > 5 <= 9"
   ]
  },
  {
   "cell_type": "markdown",
   "id": "5debcdb491a7b584",
   "metadata": {},
   "source": [
    "Wróćmy na chwilę jeszcze do operatorów logicznych `and` i `or`. Są wyliczane leniwie (precyzyjniej: w sposób skrócony (ang. short-circuit)), co znamy z C i Javy. Ale Python nie wymaga (jeszcze bardziej niż C nie wymaga), by argumenty były wartościami logicznymi.  \n",
    "\n",
    "Następujące wartości są interpretowana jako wartość fałsz: False, None, zero (dowolnego typu liczbowego), puste napisy i pojemniki (w tym listy, krotki  zbiory, słowniki i wartości typów użytkownika z odpowiednio zdefiniowaną metodą `__bool__()`). Pozostałe wartości są traktowane jako prawda.  \n",
    "\n",
    "Wynikiem zastosowania operatorów `and` i `or` jest wartość jednego z argumentów (tego, który rozstrzygnął przy skróconym wyliczaniu o wartości całości).  \n",
    "\n",
    "Te same reguły dotyczą używania wyrażeń logicznych w instrukcjach sterujących.  \n",
    "\n",
    "Postaraj się sam policzyć, zanim sprawdzisz w Pythonie, jakie są wartości tych wyrażeń: `3 and 7`, `\"\" or 15`, `\"a\" or 15`, `\"a\" and \"b\"`"
   ]
  },
  {
   "cell_type": "code",
   "execution_count": 35,
   "id": "fcf036a46a1aed45",
   "metadata": {
    "ExecuteTime": {
     "end_time": "2024-10-07T08:48:13.490802Z",
     "start_time": "2024-10-07T08:48:13.487172Z"
    }
   },
   "outputs": [
    {
     "data": {
      "text/plain": [
       "(7, 15, 'a', 'b')"
      ]
     },
     "execution_count": 35,
     "metadata": {},
     "output_type": "execute_result"
    }
   ],
   "source": [
    "3 and 7, \"\" or 15, \"a\" or 15, \"a\" and \"b\""
   ]
  },
  {
   "cell_type": "markdown",
   "id": "439ce69a76b9fb2a",
   "metadata": {},
   "source": [
    "Pamiętajmy jednak, że wyrażenia logiczne korzystające wyłącznie ze starych, dobrych wartości False i True są najczytelniejsze!"
   ]
  },
  {
   "cell_type": "markdown",
   "id": "cd827ecfed6c6805",
   "metadata": {},
   "source": [
    "# Listy\n",
    "\n",
    "Omówiliśmy literały Pythona, teraz obejrzyjmy wyrażenia nieco literały przypominające, będące jednym z najistotniejszych udogodnień oferowanych przez Pythona: wyrażenia pozwalające budować wartości typów złożonych, takich jak krotki, listy, zbiory i słowniki.\n",
    "\n",
    "Zacznijmy od najpopularniejszego pojemnika w Pythonie: list. Wyrażenia listowe zapisuje się, wymieniając oddzielone przecinkami kolejne elementy i otaczając całość prostokątnymi nawiasami.\n",
    "\n",
    "Zapisz listy: pustą, zawierająca kilka liczb, zawierającą liczbę, napis i wartość logiczną, wreszcie listę z zagnieżdżonymi listami."
   ]
  },
  {
   "cell_type": "code",
   "execution_count": null,
   "id": "587e4c49fe2dfe60",
   "metadata": {},
   "outputs": [],
   "source": [
    "[], [3, -2, 9], [1, True, \"element\"], [ [1,2,3], [4,5, [6, [7]]]]"
   ]
  },
  {
   "cell_type": "markdown",
   "id": "ffe0700aee1839a8",
   "metadata": {},
   "source": [
    "# Krotki\n",
    "\n",
    "W podobny sposób można zapisywać krotki, jedyna różnica polega na użyciu okrągłych nawiasów zamiast prostokątnych. \n",
    "Pewnym problemem są krotki jednoelementowe, ponieważ w okrągłe nawiasy można wziąć dowolne wyrażenie, nie zmieniając jego znaczenia. \n",
    "Jeśli chcemy, by była to krotka, trzeba dostawić na końcu przecinek. \n",
    "Zmień stosownie poprzedni przykład, poeksperymentuj z wyrażeniem (7) z/bez przecinka."
   ]
  },
  {
   "cell_type": "code",
   "execution_count": 38,
   "id": "e8930a3c77da0e04",
   "metadata": {
    "ExecuteTime": {
     "end_time": "2024-10-07T08:51:24.310477Z",
     "start_time": "2024-10-07T08:51:24.306839Z"
    }
   },
   "outputs": [
    {
     "data": {
      "text/plain": [
       "((), (3, -2, 9), (1, True, 'element'), ((1, 2, 3), (4, 5, (6, (7,)))), 7, (7,))"
      ]
     },
     "execution_count": 38,
     "metadata": {},
     "output_type": "execute_result"
    }
   ],
   "source": [
    "(), (3, -2, 9), (1, True, \"element\"), ( (1,2,3), (4, 5, (6, (7,)))), (7), (7,)"
   ]
  },
  {
   "cell_type": "markdown",
   "id": "db396423129ce5f0",
   "metadata": {},
   "source": [
    "Również tworzenie zbiorów jest podobnie proste, ale o tym powiemy przy innej okazji."
   ]
  },
  {
   "cell_type": "markdown",
   "id": "6ce974085e677302",
   "metadata": {},
   "source": [
    "# Instrukcja przypisania i zmienne\n",
    "\n",
    "Skoro zajmujemy się programowaniem imperatywnym (Python jest też językiem obiektowym, ale to temat na osobne spotkanie), to najwyższy czas wprowadzić zmienne i instrukcję przypisania.\n",
    "\n",
    "W najprostszej postaci instrukcja przypisania ma postać `zmienna = wyrażenie`. Niestety także w Pythonie użyto symbolu `=` dla oznaczenia przypisania (w Pythonie jest jeszcze inny, znacznie lepszy symbol, ale nie można go stosować zamiennie z `=` i opowiemy o nim przy innej okazji).\n",
    "\n",
    "Żeby wprowadzić do programu (zdefiniować) zmienną wystarczy na nią przypisać. Od tego momentu jest dostępna. Nazwa zmiennej to dowolny ciag liter i cyfr zaczynający się od litery (przez litery rozumiemy litery Unicode'u oraz znak `_`). Nazwy zaczynające się od `_` zwykle mają specjalne znaczenie, więc nie próbujmy ich samemu definiować (wyjątkiem jest nazwa `_`, jeszcze do niej wrócimy). Zwyczajowo nazwy zmiennych (funkcji, parametrów) zaczynamy od małej litery, a kolejne słowa oddzielamy znakiem `_`.\n",
    "\n",
    "Zdefiniuj zmienną `i` o wartości `13`, `r` o wartości `2,5` oraz `s` o wartości `'Python'`."
   ]
  },
  {
   "cell_type": "code",
   "execution_count": null,
   "id": "29d4220808b690a",
   "metadata": {},
   "outputs": [],
   "source": [
    "i = 13\n",
    "r = 2.5\n",
    "s = 'Python'"
   ]
  },
  {
   "cell_type": "markdown",
   "id": "d5464a943fef40dc",
   "metadata": {},
   "source": [
    "Sprawdźmy, że te zmienne istnieją i można je modyfikować: zwiększmy ich wartości o (odpowiednio) 1, 2,25 i \"!\" i sprawdźmy efekt."
   ]
  },
  {
   "cell_type": "code",
   "execution_count": null,
   "id": "e153abf49cf969c1",
   "metadata": {},
   "outputs": [],
   "source": [
    "i = i + 1\n",
    "r = r + 2.25\n",
    "s = s + '!'\n",
    "i, r, s"
   ]
  },
  {
   "cell_type": "markdown",
   "id": "f26c3ede5227e979",
   "metadata": {},
   "source": [
    "Oczywiście powyższe można zapisać krócej, analogicznie do C i Javy:"
   ]
  },
  {
   "cell_type": "code",
   "execution_count": null,
   "id": "80b4c9768422df5b",
   "metadata": {},
   "outputs": [],
   "source": [
    "i += 1\n",
    "r += 2.25\n",
    "s += '!'\n",
    "i, r, s"
   ]
  },
  {
   "cell_type": "markdown",
   "id": "b11434be4996412d",
   "metadata": {},
   "source": [
    "Operację przypisania można łączyć z operatorami  arytmetycznymi +, -,  *, /, //, % , ** oraz bitowymi >>, <<, &, ^, | (i zarezerwowanym @).\n",
    "\n",
    "Uwaga: wyrażenia i += 1 nie można skrócić do i++ (analogicznie nie można skrócić zapisu odejmowania wartości 1)."
   ]
  },
  {
   "cell_type": "markdown",
   "id": "2b6e45d51311bf27",
   "metadata": {},
   "source": [
    "# Python a sprawa typów\n",
    "\n",
    "Definiowanie zmiennych oczywiście budzi pytania o ich typy. I ogólne pytanie - czy w Pythonie są typy? Podamy kilka odpowiedzi na to pytanie.\n",
    "\n",
    "Odpowiedź 1: Nie ma. W poniższym zapisie nawet najbystrzejsze oko nie dostrzeże choćby śladu typu. (Na wszelki wypadek: nazwa zmiennej `i` niczego tu nie zmienia, można ją zmienić na dowolną inną, w Pythonie nie ma reguł domyślnego wnioskowania typu z nazwy zmiennej."
   ]
  },
  {
   "cell_type": "code",
   "execution_count": null,
   "id": "c2fb3329fc002a8d",
   "metadata": {},
   "outputs": [],
   "source": [
    "i = 1"
   ]
  },
  {
   "cell_type": "markdown",
   "id": "1e471d4fa5fbe59f",
   "metadata": {},
   "source": [
    "Odpowiedź 2: Oczywiście są, trzeba je po prostu dopisać."
   ]
  },
  {
   "cell_type": "code",
   "execution_count": null,
   "id": "25191aa7c4092037",
   "metadata": {},
   "outputs": [],
   "source": [
    "i: int = 1"
   ]
  },
  {
   "cell_type": "markdown",
   "id": "c27896aa3a3d5d2b",
   "metadata": {},
   "source": [
    "Odpowiedź 3: Jednak nie ma."
   ]
  },
  {
   "cell_type": "code",
   "execution_count": null,
   "id": "7c2f94fb30ed0e79",
   "metadata": {},
   "outputs": [],
   "source": [
    "i: int = 1\n",
    "i = \"Nie ma typów\"\n",
    "i = [ \"i\", \"tu\", \"też\", \"ich\", \"nie\", \"ma\"]\n",
    "i"
   ]
  },
  {
   "cell_type": "markdown",
   "id": "4556998fb9b36733",
   "metadata": {},
   "source": [
    "Odpowiedź 4: Jednak są (a przynajmniej błędy typów, to już zawsze coś)."
   ]
  },
  {
   "cell_type": "code",
   "execution_count": null,
   "id": "ae16198dd15c394a",
   "metadata": {},
   "outputs": [],
   "source": [
    "1 + \"a\""
   ]
  },
  {
   "cell_type": "markdown",
   "id": "a14d460a2fca50fe",
   "metadata": {},
   "source": [
    "Podsumowując: W Pythonie nie ma statycznej kontroli typów (choć są wskazówki dotyczące typów (ang. type hints) zmiennych. parametrów czy funkcji, ignorowane przez interpreter Pythona). Natomiast wartości mają typy i te typy są sprawdzane podczas wykonywania programu. Co oczywiście zużywa pamięć i czas. Ale nie za oszczędność pamięci i cykli procesora kochamy Pythona!"
   ]
  },
  {
   "cell_type": "markdown",
   "id": "cdaf069d20006789",
   "metadata": {},
   "source": [
    "Możemy badać typ wartości wyrażeń funkcją `type`. Wypisz jej wartości dla liczby całkowitej, napisu i listy."
   ]
  },
  {
   "cell_type": "code",
   "execution_count": null,
   "id": "5e370683d6f17ec0",
   "metadata": {},
   "outputs": [],
   "source": [
    "type(3), type(\"Python\"), type([])"
   ]
  },
  {
   "cell_type": "markdown",
   "id": "aa32776d6bdca1",
   "metadata": {},
   "source": [
    "W Pythonie mamy szereg instrukcji, omówimy teraz kilka z nich. Jedną już znamy (przypisanie). Niestety to na razie bardzo powierzchowna znajomość.\n",
    "\n",
    "Napisz program przypisujący do zmiennych `i`, `j`, `k` wartość `13`."
   ]
  },
  {
   "cell_type": "code",
   "execution_count": null,
   "id": "3e5e1d1f23052cb8",
   "metadata": {},
   "outputs": [],
   "source": [
    "i = 0\n",
    "j = 0\n",
    "k = 0\n",
    "i, j, k"
   ]
  },
  {
   "cell_type": "markdown",
   "id": "cf3e8b13d3c44239",
   "metadata": {},
   "source": [
    "Niby działa, ale nikt by tego tak w Pythonie nie zapisał (poza nami powyżej). Mamy wielokrotne przypisanie (jak w C i Javie)."
   ]
  },
  {
   "cell_type": "code",
   "execution_count": null,
   "id": "3c26839d8da1919f",
   "metadata": {},
   "outputs": [],
   "source": [
    "i = j = k = 0\n",
    "i, j, k "
   ]
  },
  {
   "cell_type": "markdown",
   "id": "22d2feeb57f22709",
   "metadata": {},
   "source": [
    "Krócej ale przede wszystkim dużo czytelniej.\n",
    "\n",
    "To teraz przypiszmy na `i` wartość `13` zaś na `j` `42`."
   ]
  },
  {
   "cell_type": "code",
   "execution_count": null,
   "id": "c2c54e6676674c26",
   "metadata": {},
   "outputs": [],
   "source": [
    "i = 13\n",
    "j = 42\n",
    "i, j"
   ]
  },
  {
   "cell_type": "markdown",
   "id": "5f1ca1e5b2b09e19",
   "metadata": {},
   "source": [
    "Działa, ale znów nikt (poza nami) tak tego nie zapisze. W Pythonie jest jednoczesne przypisanie. Po lewej stronie (niefortunnego) symbolu `=` podaje się listę celów (na razie przyjmijmy, że to zmienne), po prawej tej samej długości listę wyrażeń. Semantyka jest taka, że najpierw wylicza się od lewej do prawej wyrażenia, a potem wykonuje się od lewej do prawej przypisania (wyliczając cele)."
   ]
  },
  {
   "cell_type": "code",
   "execution_count": null,
   "id": "cf2a75ec4117ee",
   "metadata": {},
   "outputs": [],
   "source": [
    "i, j = 13, 42\n",
    "i, j"
   ]
  },
  {
   "cell_type": "markdown",
   "id": "7ac8ee9503ed9b6f",
   "metadata": {},
   "source": [
    "Zapiszmy teraz kod zamieniający wartość `i` z `j` w stylu C lub Javy."
   ]
  },
  {
   "cell_type": "code",
   "execution_count": null,
   "id": "fdb56aec270ca1f8",
   "metadata": {},
   "outputs": [],
   "source": [
    "pom = i\n",
    "i = j\n",
    "j = pom\n",
    "i, j, pom"
   ]
  },
  {
   "cell_type": "markdown",
   "id": "4e5d2aa3b33f7fa2",
   "metadata": {},
   "source": [
    "A teraz zapiszmy to rzeczywiście w Pythonie."
   ]
  },
  {
   "cell_type": "code",
   "execution_count": null,
   "id": "f2df26428f0a5a",
   "metadata": {},
   "outputs": [],
   "source": [
    "i, j = j, i\n",
    "i, j"
   ]
  },
  {
   "cell_type": "markdown",
   "id": "88a340910b1013ca",
   "metadata": {},
   "source": [
    "Czyż można nie lubić Pythona?"
   ]
  },
  {
   "cell_type": "markdown",
   "id": "a8b929d73b368327",
   "metadata": {},
   "source": [
    "# Instrukcja pusta\n",
    "\n",
    "Kolejna instrukcja to instrukcja pusta `pass'."
   ]
  },
  {
   "cell_type": "code",
   "execution_count": null,
   "id": "b3430e02838c1102",
   "metadata": {},
   "outputs": [],
   "source": [
    "pass"
   ]
  },
  {
   "cell_type": "markdown",
   "id": "e047c005cf35f4be",
   "metadata": {},
   "source": [
    "# Instrukcja warunkowa\n",
    "\n",
    "Absolutny klasyk, czyli instrukcja `if`. No trochę ulepszony `if` w stosunku do klasyki. Oprócz `if` i `else` (opcjonalne) można używać `elif` (dowolnie wiele razy, po `if` a przed `else`). \n",
    "\n",
    "**Uwaga**: instrukcje zagnieżdżone muszą być wcięte! Wcięcia w Pythonie określają strukturę programu. Nigdy nie mieszajmy w kodzie programu spacji i tabulacji! Natomiast środowiska (IDE) zwykle same zamieniają tabulacje na spacje, więc pisząc program można naciskać klawisz tabulacji wiedząc, że i tak w kodzie będą spacje.\n",
    "\n",
    "**Uwaga**: wcięcia nie wprowadzają lokalnej widoczności. Robią to definicje funkcji.\n",
    "\n",
    "Wcięcia w różnych gałęziach `if` mogą być różne, ale po co by miały być?\n",
    "\n",
    "Napisz program wypisujący w zależności od parzystości zmiennej `i` P lub N. Do wypisywania w Pythonie służy instrukcja 'print'. Wypisywanie umieść za `if`, zaś wynik przypisz na zmienną wewnątrz `if`. Czy zdefiniowanie wewnątrz `if` w czymś przeszkodziło? Co by było w C/Javie?"
   ]
  },
  {
   "cell_type": "code",
   "execution_count": null,
   "id": "7f942078c0ce36bd",
   "metadata": {},
   "outputs": [],
   "source": [
    "i = 17\n",
    "\n",
    "if i % 2 == 0:\n",
    "    wyn = 'P'\n",
    "else:\n",
    "    wyn = 'N' \n",
    "    \n",
    "print(wyn)"
   ]
  },
  {
   "cell_type": "markdown",
   "id": "f9c108e5011b59a2",
   "metadata": {},
   "source": [
    "Napisz program oceniający na podstawie wartości zmiennej temp (stopnie Celsjusza) temperaturę powietrza i wypisujący ten komentarz na ekran. Przyjmij, że są co najmniej cztery kategorie temperatur. Jeśli chcesz, możesz wczytać temperaturę instrukcją `int(input())`"
   ]
  },
  {
   "cell_type": "code",
   "execution_count": null,
   "id": "1f928e63d6106a89",
   "metadata": {},
   "outputs": [],
   "source": [
    "temp = int(input())\n",
    "if temp < 0:\n",
    "    print(\"Brrr!\")\n",
    "elif temp < 10:\n",
    "    print(\"Zimno!\")\n",
    "elif temp < 20:\n",
    "    print(\"Chłodno\")\n",
    "elif temp < 30:\n",
    "    print(\"Znośnie\")\n",
    "else:\n",
    "    print(\"Cool!\")\n",
    "    "
   ]
  },
  {
   "cell_type": "markdown",
   "id": "3d6dd12167eb542a",
   "metadata": {},
   "source": [
    "# Pętle\n",
    "\n",
    "Oczywiście mamy pętle. Stopniowo będziemy je poznawać coraz lepiej, na razie zacznijmy od pętli 'dla każdego': \n",
    "`for elt in pojemnik:\n",
    "   instrukcja`\n",
    "\n",
    "Napisz program zliczający, ile jest ujemnych liczb w zadanej liście liczb całkowitych. \n",
    "\n",
    "**Uwaga**: nie używaj dla zmiennych z listami nazwy `list`."
   ]
  },
  {
   "cell_type": "code",
   "execution_count": null,
   "id": "965ab17340c03982",
   "metadata": {},
   "outputs": [],
   "source": [
    "ile, lst = 0, [3, 5, -2, 4, -7, 19]\n",
    "for elt in lst:\n",
    "    if elt < 0:\n",
    "        ile+=1\n",
    "ile        "
   ]
  },
  {
   "cell_type": "markdown",
   "id": "50ca0468a05b7292",
   "metadata": {},
   "source": [
    "# Indeksowanie i funkcja range\n",
    "\n",
    "Często sami chcemy sięgnąć do elementów listy czy napisu. Robimy to oczywiście za pomocą operatora indeksowania `lista[indeks]`. W Pythonie praktycznie wszystko jest indeksowane od 0. Listy i napisy też.\n",
    "\n",
    "Napisz fragment kodu, który z listy napisów wybierze te, których indeksy są w liście liczb i da jako wynik konkatenację wybranych napisów. Załóż, że indeksy są poprawne."
   ]
  },
  {
   "cell_type": "code",
   "execution_count": null,
   "id": "da0aaf924dd06358",
   "metadata": {},
   "outputs": [],
   "source": [
    "napisy = [\"jest \", \"C \", 'dobry ', \"Rust \", 'szybki ', \"świetny \", 'Python ']\n",
    "indeksy = [6, 0, 2, 6, 0, 5]          \n",
    "wyn = \"\"          \n",
    "for ind in indeksy: \n",
    "    wyn += napisy[ind]\n",
    "wyn"
   ]
  },
  {
   "cell_type": "markdown",
   "id": "6c76a6abc2c4a3cc",
   "metadata": {},
   "source": [
    " Zakres `n` wartości od 0 z krokiem 1 daje wyrażenie `range(n)`.\n",
    " \n",
    " Napisz fragment kodu, który sumuje wartości z parzystych pozycji z zadanej tablicy liczb."
   ]
  },
  {
   "cell_type": "code",
   "execution_count": null,
   "id": "d00ecf8f99e717a3",
   "metadata": {},
   "outputs": [],
   "source": [
    "liczby = [2, -7, 0, 3, 2, 8, 1]\n",
    "\n",
    "wyn = 0\n",
    "for i in range(len(liczby)):\n",
    "    if i%2 == 0:\n",
    "        wyn += liczby[i]\n",
    "wyn               "
   ]
  },
  {
   "cell_type": "markdown",
   "id": "b03ab1225d0af26",
   "metadata": {},
   "source": [
    "# Funkcje\n",
    "Oczywiście możemy definiować funkcje. (No może to nie do końca oczywiste, w Javie nie ma funkcji). Używamy składni:\n",
    "\n",
    "`def nazwa(parametry):`  \n",
    "`  treść`  \n",
    "    \n",
    "Parametry oddzielamy przecinkami. instrukcje treść (musi być co najmniej jedna) muszą być tak samo wcięte. \n",
    "\n",
    "Wynik funkcji podajemy za pomocą instrukcji `return wyrażenie`. Jeśli taka nie zostanie wykonana, a funkcja się skończy, wynikiem będzie `None`. W Pythonie nie ma osobnej składni dla procedur.\n",
    "\n"
   ]
  },
  {
   "cell_type": "markdown",
   "id": "bf6660ed92198dc2",
   "metadata": {},
   "source": [
    "# Zadania (być może) do domu:\n",
    "\n",
    "Napisz funkcję sumującą te elementy zadanej listy, które są liczbami całkowitymi. Wywołaj ją dla przykładowych danych."
   ]
  },
  {
   "cell_type": "code",
   "execution_count": null,
   "id": "c18b2602e0f4ee52",
   "metadata": {},
   "outputs": [],
   "source": [
    "def suma(lst):\n",
    "    wyn = 0\n",
    "    for elt in lst:\n",
    "        if type(elt) == int:\n",
    "            wyn += elt\n",
    "    return wyn\n",
    "\n",
    "dane = [1, \"to\", 23, \"nie\", [12, [], [[2]]], \"było\", -12, \"trudne\", False, [1, 2, [3]]]\n",
    "suma(dane)"
   ]
  },
  {
   "cell_type": "markdown",
   "id": "1afa7c5c3b915fd4",
   "metadata": {},
   "source": [
    "Jak poprzednio, ale sumuj także liczby znajdujące się na drugim poziomie."
   ]
  },
  {
   "cell_type": "code",
   "execution_count": null,
   "id": "3c2a0c54e906db78",
   "metadata": {},
   "outputs": [],
   "source": [
    "def suma2(lst):\n",
    "    wyn = 0\n",
    "    for elt in lst:\n",
    "        if type(elt) == int:\n",
    "            wyn += elt\n",
    "        elif type(elt) == list:\n",
    "            wyn += suma(elt)    \n",
    "    return wyn\n",
    "\n",
    "suma2(dane)"
   ]
  },
  {
   "cell_type": "markdown",
   "id": "ac16cb9f0f612519",
   "metadata": {},
   "source": [
    "Jak poprzednio, ale na wszystkich poziomach."
   ]
  },
  {
   "cell_type": "code",
   "execution_count": null,
   "id": "178769690a863d38",
   "metadata": {},
   "outputs": [],
   "source": [
    "def suma3(lst):\n",
    "    wyn = 0\n",
    "    for elt in lst:\n",
    "        if type(elt) == int:\n",
    "            wyn += elt\n",
    "        elif type(elt) == list:\n",
    "            wyn += suma3(elt)    \n",
    "    return wyn\n",
    "\n",
    "suma3(dane)"
   ]
  }
 ],
 "metadata": {
  "kernelspec": {
   "display_name": "Python 3 (ipykernel)",
   "language": "python",
   "name": "python3"
  },
  "language_info": {
   "codemirror_mode": {
    "name": "ipython",
    "version": 3
   },
   "file_extension": ".py",
   "mimetype": "text/x-python",
   "name": "python",
   "nbconvert_exporter": "python",
   "pygments_lexer": "ipython3",
   "version": "3.10.12"
  }
 },
 "nbformat": 4,
 "nbformat_minor": 5
}
