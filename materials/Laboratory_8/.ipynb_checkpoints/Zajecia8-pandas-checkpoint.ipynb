{
 "cells": [
  {
   "cell_type": "markdown",
   "id": "39b3c57c",
   "metadata": {},
   "source": [
    "# Biblioteka pandas w Pythonie\n",
    "\n",
    "[Pandas](https://pandas.pydata.org/) to rozbudowana biblioteka do manipulowania danymi, tj. procesu pobierania danych i zmieniania ich formatu celem  łatwiejszego odczytu lub lepszego uporządkowania, oraz do analizy danych w Pythonie. \n",
    "\n",
    "Nazwa pochodzi od \"**pan**el **da**ta\", terminu powszechnie używanego w odniesieniu do wielowymiarowych zbiorów danych spotykanych w statystyce i ekonometrii."
   ]
  },
  {
   "cell_type": "markdown",
   "id": "d0c55567-2287-4565-87dd-69adf83d3f9d",
   "metadata": {},
   "source": [
    "**Uwaga**: Biblioteka pandas jest doskonałym narzędziem do pracy z małymi i średnimi zbiorami danych. Jednak zdolność pandas do przetwarzania dużych zbiorów danych jest ograniczona. Dzieje się tak, ponieważ pandas ładuje cały zbiór danych do pamięci RAM przed przetwarzaniem, co może być problematyczne, jeśli rozmiar zbioru danych przekracza dostępną pamięć."
   ]
  },
  {
   "cell_type": "markdown",
   "id": "bd8a5466",
   "metadata": {},
   "source": [
    "## 0. Instalacja oraz import biblioteki pandas\n",
    "\n",
    "Instalujemy za pomocą komendy pip:"
   ]
  },
  {
   "cell_type": "code",
   "execution_count": null,
   "id": "23ef48d5",
   "metadata": {},
   "outputs": [],
   "source": [
    "!pip install pandas"
   ]
  },
  {
   "cell_type": "markdown",
   "id": "5dc8f580",
   "metadata": {},
   "source": [
    "oraz importujemy za pomocą instrukcji"
   ]
  },
  {
   "cell_type": "code",
   "execution_count": null,
   "id": "47c5abe2",
   "metadata": {},
   "outputs": [],
   "source": [
    "import pandas as pd\n",
    "\n",
    "# Przyda się nam też NumPy, więc od razu i tę biblotekę zaimportujemy\n",
    "import numpy as np"
   ]
  },
  {
   "cell_type": "markdown",
   "id": "c93398b8",
   "metadata": {},
   "source": [
    "## 1. Podstawowe struktury danych w pandas\n",
    "\n",
    "Serie danych (klasa [pandas.Series](https://pandas.pydata.org/docs/reference/api/pandas.Series.html)) – to jednowymiarowa tablica z etykietami, która może przechowywać dowolny typ danych.\n",
    "\n",
    "Ramka danych (klasa [pandas.DataFrame](https://pandas.pydata.org/docs/reference/api/pandas.DataFrame.html)) – dwuwymiarowa struktura z etykietami, mogąca przechowywać kolumny z różnymi typami danych.\n",
    "\n",
    "Indeks (klasa [pandas.Index](https://pandas.pydata.org/docs/reference/api/pandas.Index.html#pandas.Index)) - niezmienialny ciąg obiektów używany do indeksowania serii i ramek danych. "
   ]
  },
  {
   "cell_type": "markdown",
   "id": "b5d962e7",
   "metadata": {},
   "source": [
    "### Seria i indeks w pandas"
   ]
  },
  {
   "cell_type": "markdown",
   "id": "04f86591",
   "metadata": {},
   "source": [
    "Serię danych możemy utworzyć w następujący sposób:"
   ]
  },
  {
   "cell_type": "code",
   "execution_count": null,
   "id": "d767614e",
   "metadata": {},
   "outputs": [],
   "source": [
    "s = pd.Series([1, 3, 5, np.nan, 6, 8])\n",
    "s"
   ]
  },
  {
   "cell_type": "markdown",
   "id": "67338094",
   "metadata": {},
   "source": [
    "W powyższym przykładzie kolejne wartości są indeksowane automatycznie:"
   ]
  },
  {
   "cell_type": "code",
   "execution_count": null,
   "id": "208e10d7",
   "metadata": {},
   "outputs": [],
   "source": [
    "list(s.index)"
   ]
  },
  {
   "cell_type": "markdown",
   "id": "dd4e989e",
   "metadata": {},
   "source": [
    "Oczywiście możemy określić swój własny sposób indeksowania wartości: "
   ]
  },
  {
   "cell_type": "code",
   "execution_count": null,
   "id": "6552fe92",
   "metadata": {},
   "outputs": [],
   "source": [
    "s = pd.Series([12, 23, 19, 20], index=['Ala', 'Ola', 'Marek', 'Tomek'], dtype='int32')\n",
    "s"
   ]
  },
  {
   "cell_type": "markdown",
   "id": "b088307d",
   "metadata": {},
   "source": [
    "Indeks pozwala nam odczytywać poszczególne elementy serii danych.\n",
    "\n",
    "Na przykład tak:"
   ]
  },
  {
   "cell_type": "code",
   "execution_count": null,
   "id": "50387829",
   "metadata": {},
   "outputs": [],
   "source": [
    "s['Marek']"
   ]
  },
  {
   "cell_type": "markdown",
   "id": "f613538c",
   "metadata": {},
   "source": [
    "Ale można i tak, korzystając z odpowiedniego atrybutu:"
   ]
  },
  {
   "cell_type": "code",
   "execution_count": null,
   "id": "4731da44",
   "metadata": {},
   "outputs": [],
   "source": [
    "s.Marek"
   ]
  },
  {
   "cell_type": "markdown",
   "id": "504a9a0d",
   "metadata": {},
   "source": [
    "Możemy też odczytywać dane z serii danych w \"tradycyjny\" sposób, tj. tak jak w przypadku standardowych list w Pythonie czy tabel w NumPy:"
   ]
  },
  {
   "cell_type": "code",
   "execution_count": null,
   "id": "f1ab9585",
   "metadata": {},
   "outputs": [],
   "source": [
    "s[0]"
   ]
  },
  {
   "cell_type": "markdown",
   "id": "cafe7686-dba1-4c17-a874-10827cea3bfb",
   "metadata": {},
   "source": [
    "choć w przyszłości najprawdopodobniej zostanie to zmienione (w wersji 2.2.3 pojawia się odpowiednie ostrzeżenie)."
   ]
  },
  {
   "cell_type": "code",
   "execution_count": null,
   "id": "36899f11",
   "metadata": {},
   "outputs": [],
   "source": [
    "s[1:3]"
   ]
  },
  {
   "cell_type": "markdown",
   "id": "bf018ccc",
   "metadata": {},
   "source": [
    "W prosty sposób możemy stworzyć serię danych dla odczytów w określonych datach, punktach czasowych, itp. Tworzymy indeks dla poszczególnych odczytów, np. dla pierwszego dnia każdego miesiąca w 2020r.: "
   ]
  },
  {
   "cell_type": "code",
   "execution_count": null,
   "id": "74f5d81e",
   "metadata": {},
   "outputs": [],
   "source": [
    "daty = pd.date_range('20200101', periods=12, freq='MS')\n",
    "print(daty)"
   ]
  },
  {
   "cell_type": "markdown",
   "id": "fccd22dc",
   "metadata": {},
   "source": [
    "'MS' jest napisem określającym częstotliwość z jaką mają być generowane kolejne elementy zakresu. Możliwe inne wartości tego parametru są dostępne [tutaj](https://pandas.pydata.org/docs/user_guide/timeseries.html#timeseries-offset-aliases).\n",
    "\n",
    "Utworzymy teraz serię danych zawierającą średnie wartości temperatury powietrza w Warszawie w poszczególnych miesiącach 2020r. zmierzone przez stację meteorologiczną Warszawa-Filtry (dla zainteresowanych: dane są dostępne [tutaj](https://meteomodel.pl/dane/srednie-miesieczne/?imgwid=252200230&par=tm&max_empty=2)):"
   ]
  },
  {
   "cell_type": "code",
   "execution_count": null,
   "id": "afebef79",
   "metadata": {},
   "outputs": [],
   "source": [
    "temp = pd.Series([2.7, 4.2, 5.4, 10.0, 12.8, 20.0, 20.3, 21.3, 16.0, 10.8, 6.0, 2.1], index=daty)\n",
    "temp"
   ]
  },
  {
   "cell_type": "markdown",
   "id": "bad8410b",
   "metadata": {},
   "source": [
    "Poszczególne wartości możemy odczytwać z serii danych na różne sposoby.\n",
    "\n",
    "Pojedynczy element:"
   ]
  },
  {
   "cell_type": "code",
   "execution_count": null,
   "id": "d59f4c61",
   "metadata": {},
   "outputs": [],
   "source": [
    "temp[0]"
   ]
  },
  {
   "cell_type": "code",
   "execution_count": null,
   "id": "a30be1bb",
   "metadata": {},
   "outputs": [],
   "source": [
    "temp['2020-01-01']"
   ]
  },
  {
   "cell_type": "code",
   "execution_count": null,
   "id": "9089ab2b",
   "metadata": {},
   "outputs": [],
   "source": [
    "temp['2020/5/1']"
   ]
  },
  {
   "cell_type": "code",
   "execution_count": null,
   "id": "01173ff2",
   "metadata": {},
   "outputs": [],
   "source": [
    "temp['2020-01']"
   ]
  },
  {
   "cell_type": "markdown",
   "id": "07968f92",
   "metadata": {},
   "source": [
    "Ale to już nie zadziała:"
   ]
  },
  {
   "cell_type": "code",
   "execution_count": null,
   "id": "acba63c2",
   "metadata": {},
   "outputs": [],
   "source": [
    "temp.2020-01-01"
   ]
  },
  {
   "cell_type": "markdown",
   "id": "9e5ead53",
   "metadata": {},
   "source": [
    "ani to:"
   ]
  },
  {
   "cell_type": "code",
   "execution_count": null,
   "id": "e32b7e53",
   "metadata": {},
   "outputs": [],
   "source": [
    "temp.'2020-01-01'"
   ]
  },
  {
   "cell_type": "markdown",
   "id": "2934a683",
   "metadata": {},
   "source": [
    "Ale możemy tak:"
   ]
  },
  {
   "cell_type": "code",
   "execution_count": null,
   "id": "d5d10fc1",
   "metadata": {},
   "outputs": [],
   "source": [
    "ts = pd.to_datetime('2020-01-01')\n",
    "ts"
   ]
  },
  {
   "cell_type": "markdown",
   "id": "6b900026",
   "metadata": {},
   "source": [
    "i jeszcze na kilka różnych sposobów:"
   ]
  },
  {
   "cell_type": "code",
   "execution_count": null,
   "id": "3281fe78",
   "metadata": {},
   "outputs": [],
   "source": [
    "ts = pd.to_datetime('2020-01')\n",
    "ts"
   ]
  },
  {
   "cell_type": "code",
   "execution_count": null,
   "id": "0c93c2e2",
   "metadata": {},
   "outputs": [],
   "source": [
    "pd.to_datetime('2020')"
   ]
  },
  {
   "cell_type": "code",
   "execution_count": null,
   "id": "76902163",
   "metadata": {},
   "outputs": [],
   "source": [
    "temp[ts]"
   ]
  },
  {
   "cell_type": "code",
   "execution_count": null,
   "id": "c8db51bd",
   "metadata": {},
   "outputs": [],
   "source": [
    "temp['2020']"
   ]
  },
  {
   "cell_type": "code",
   "execution_count": null,
   "id": "909aaf58",
   "metadata": {},
   "outputs": [],
   "source": [
    "temp['2020-05-01':'2020-08-01']"
   ]
  },
  {
   "cell_type": "markdown",
   "id": "af824e86",
   "metadata": {},
   "source": [
    "Co ciekawe, można i tak:"
   ]
  },
  {
   "cell_type": "code",
   "execution_count": null,
   "id": "3484d923",
   "metadata": {},
   "outputs": [],
   "source": [
    "temp['2020-05-01':'2020-08-12']"
   ]
  },
  {
   "cell_type": "markdown",
   "id": "837cbf13",
   "metadata": {},
   "source": [
    "W naszym przykładzie serii danych zawierających średnie wartości temperatur dla poszczególnych miesięcy, etykiety indeksu są jednak mylące, gdyż zawierają informację o dniu - sugerują jakby pomiary były dokonywane w pierwszym dniu każdego miesiąca, co nie jest zgodne ze stanem faktycznym. Dlatego spróbujemy poprawić nasz indeks. Możemy zrobić to używająć funkcji [period_range](https://pandas.pydata.org/docs/reference/api/pandas.period_range.html). Najpierw utworzymy nowy indeks:"
   ]
  },
  {
   "cell_type": "code",
   "execution_count": null,
   "id": "084a66fe",
   "metadata": {},
   "outputs": [],
   "source": [
    "nowy_indeks = pd.period_range(\"2020/01/01\", freq=\"M\", periods=12)\n",
    "nowy_indeks"
   ]
  },
  {
   "cell_type": "markdown",
   "id": "c351894d",
   "metadata": {},
   "source": [
    "Zauważmy, że przy okazji zmienimy klasę indeksu z [DatetimeIndex](https://pandas.pydata.org/docs/reference/api/pandas.DatetimeIndex.html) na [PeriodIndex](https://pandas.pydata.org/docs/reference/api/pandas.PeriodIndex.html).\n",
    "Teraz dokonamy podmiany:"
   ]
  },
  {
   "cell_type": "code",
   "execution_count": null,
   "id": "63d5a1c0",
   "metadata": {},
   "outputs": [],
   "source": [
    "temp.index = nowy_indeks\n",
    "temp"
   ]
  },
  {
   "cell_type": "markdown",
   "id": "6774151e",
   "metadata": {},
   "source": [
    "Przy okazji nie tylko mamy bardziej poprawny indeks, ale też zredukowaliśmy zużycie pamięci:"
   ]
  },
  {
   "cell_type": "code",
   "execution_count": null,
   "id": "ab191fe0",
   "metadata": {},
   "outputs": [],
   "source": [
    "print(f\"Niepoprawny indeks zajmował {daty.memory_usage()} bajtów.\")\n",
    "print(f\"Poprawny indeks zajmuje {nowy_indeks.memory_usage()} bajtów.\")"
   ]
  },
  {
   "cell_type": "code",
   "execution_count": null,
   "id": "5918c001",
   "metadata": {},
   "outputs": [],
   "source": [
    "daty.dtype"
   ]
  },
  {
   "cell_type": "code",
   "execution_count": null,
   "id": "6d0bcd96",
   "metadata": {},
   "outputs": [],
   "source": [
    "nowy_indeks.dtype"
   ]
  },
  {
   "cell_type": "markdown",
   "id": "f7fec4bc",
   "metadata": {},
   "source": [
    "Do zagadnień związanych z czasem i manipulowaniem nim w pandas jeszcze wrócimy na końcu dzisiejszych zajęć."
   ]
  },
  {
   "cell_type": "markdown",
   "id": "c15b36e1",
   "metadata": {},
   "source": [
    "Omówimy jeszcze metodę [pandas.Series.map](https://pandas.pydata.org/docs/reference/api/pandas.Series.map.html) dla serii danych. Pozwala ona na zastępowanie wartości serii danych innymi wartościami zadanymi przez funkcję, słownik lub inną serię danych:"
   ]
  },
  {
   "cell_type": "code",
   "execution_count": null,
   "id": "cbde4e30",
   "metadata": {},
   "outputs": [],
   "source": [
    "s = pd.Series(['cat', 'dog', np.nan, 'rabbit'])\n",
    "s"
   ]
  },
  {
   "cell_type": "markdown",
   "id": "99762627",
   "metadata": {},
   "source": [
    "Najpierw nowe wartości zadamy za pomocą słownika. Jeżeli w słowniku brakuje odpowiedniego klucza, to nową wartością jest NaN, chyba że słownik określa wartość domyślną:"
   ]
  },
  {
   "cell_type": "code",
   "execution_count": null,
   "id": "f3c3e328",
   "metadata": {},
   "outputs": [],
   "source": [
    "s.map({'cat': 'kitten', 'dog': 'puppy'})"
   ]
  },
  {
   "cell_type": "markdown",
   "id": "6445bc57",
   "metadata": {},
   "source": [
    "Teraz nowe wartości zostaną zadane za pomocą funkcji. Na przykład tak:"
   ]
  },
  {
   "cell_type": "code",
   "execution_count": null,
   "id": "ef75c404",
   "metadata": {},
   "outputs": [],
   "source": [
    "s.map('I am a {}'.format, na_action='ignore')"
   ]
  },
  {
   "cell_type": "markdown",
   "id": "2a5bbaa1-669f-46e2-ab93-170a9a82b1ee",
   "metadata": {},
   "source": [
    "albo tak, używając wyrażenia lambda:"
   ]
  },
  {
   "cell_type": "code",
   "execution_count": null,
   "id": "433a0542",
   "metadata": {},
   "outputs": [],
   "source": [
    "pd.Series([1,2,3,4,5]).map(lambda x: x+2)"
   ]
  },
  {
   "cell_type": "markdown",
   "id": "3375b11f",
   "metadata": {},
   "source": [
    "No i jeszcze zadamy nowe wartości za pomocą innej serii:"
   ]
  },
  {
   "cell_type": "code",
   "execution_count": null,
   "id": "1e2772f9",
   "metadata": {},
   "outputs": [],
   "source": [
    "s = pd.Series(['A','B','C','D'])\n",
    "other_series = pd.Series(range(len(s)), index = ['C', 'D', 'B', 'A'])\n",
    "s.map(other_series)"
   ]
  },
  {
   "cell_type": "markdown",
   "id": "5eb0a3d5",
   "metadata": {},
   "source": [
    "### Ćwiczenie 1\n",
    "\n",
    "Utworzyć serię danych ciśnienia atmosferycznego w hPa w pierwszych siedmiu dniach roku 2024 w Warszawie. Wartości liczbowe można pobrać [stąd](https://www.ekologia.pl/pogoda/polska/mazowieckie/warszawa/archiwum,zakres,01-01-2024_07-01-2024)."
   ]
  },
  {
   "cell_type": "code",
   "execution_count": null,
   "id": "991ba98e",
   "metadata": {},
   "outputs": [],
   "source": []
  },
  {
   "cell_type": "markdown",
   "id": "9d6a1eaf",
   "metadata": {},
   "source": [
    "---\n",
    "\n",
    "### Ramka danych w pandas\n",
    "\n",
    "Teraz przejdziemy do omówienia klasy [pandas.DataFrame](https://pandas.pydata.org/docs/reference/api/pandas.DataFrame.html). Obiekty tej klasy to dwuwymiarowe tablice danych z indeksami kolumn i wierszy, gdzie poszczególne kolumny to serie danych, tj. obiekty klasy [pandas.Series](https://pandas.pydata.org/docs/reference/api/pandas.Series.html).\n",
    "\n",
    "Na początek utworzymy obiekt DataFrame na podstawie słownika:"
   ]
  },
  {
   "cell_type": "code",
   "execution_count": null,
   "id": "ce296582",
   "metadata": {},
   "outputs": [],
   "source": [
    "data = {'Kraj': ['Belgia', 'Indie', 'Brazylia'],\n",
    "        'Stolica': ['Bruksela', 'New Delhi', 'Brasilia'],\n",
    "        'Populacja': [11190846, 1303171035, 207847528]}\n",
    "df = pd.DataFrame(data,columns=['Kraj', 'Stolica', 'Populacja'])\n",
    "df"
   ]
  },
  {
   "cell_type": "markdown",
   "id": "fa4c6f23",
   "metadata": {},
   "source": [
    "Sprawdźmy indkes kolumn tego obiektu:"
   ]
  },
  {
   "cell_type": "code",
   "execution_count": null,
   "id": "6ef55569",
   "metadata": {},
   "outputs": [],
   "source": [
    "df.columns"
   ]
  },
  {
   "cell_type": "markdown",
   "id": "2c8a9108",
   "metadata": {},
   "source": [
    "Listę zawierającą nazwy kolumn możemy uzyskać w ten sposób:"
   ]
  },
  {
   "cell_type": "code",
   "execution_count": null,
   "id": "0db50f53",
   "metadata": {},
   "outputs": [],
   "source": [
    "df.columns.tolist()"
   ]
  },
  {
   "cell_type": "markdown",
   "id": "15b0b499",
   "metadata": {},
   "source": [
    "A teraz zobaczmy czym jest indeks wierszy:"
   ]
  },
  {
   "cell_type": "code",
   "execution_count": null,
   "id": "8f2161c1",
   "metadata": {},
   "outputs": [],
   "source": [
    "df.index"
   ]
  },
  {
   "cell_type": "markdown",
   "id": "437cd064",
   "metadata": {},
   "source": [
    "Sprawdźmy jeszcze obiektem jakiej klasy jest jedna z kolumn:"
   ]
  },
  {
   "cell_type": "code",
   "execution_count": null,
   "id": "3312c40d",
   "metadata": {},
   "outputs": [],
   "source": [
    "type(df['Kraj'])"
   ]
  },
  {
   "cell_type": "markdown",
   "id": "23d1d97a",
   "metadata": {},
   "source": [
    "Kolumny są obiektami klasy [pandas.Series](https://pandas.pydata.org/docs/reference/api/pandas.Series.html). Ale elementy poszczególnych kolumn już mogą być różnych typów. Dlatego też dla każdej kolumny DataFrame przechowywany jest jej typ danych. Informacje o tym typie możemy uzyskać za pomocą atrybutu dtypes:"
   ]
  },
  {
   "cell_type": "code",
   "execution_count": null,
   "id": "8b642990",
   "metadata": {},
   "outputs": [],
   "source": [
    "print(df.dtypes)"
   ]
  },
  {
   "cell_type": "markdown",
   "id": "25eac20b",
   "metadata": {},
   "source": [
    "Możemy też utworzyć obiekt klasy DataFrame łącząc serie danych:"
   ]
  },
  {
   "cell_type": "markdown",
   "id": "1c0224bb",
   "metadata": {},
   "source": [
    "Przykład 1:"
   ]
  },
  {
   "cell_type": "code",
   "execution_count": null,
   "id": "fa2bea14",
   "metadata": {},
   "outputs": [],
   "source": [
    "s1 = pd.Series(range(6))\n",
    "s2 = pd.Series(range(6,12))\n",
    "df = pd.concat([s1, s2], axis=1)\n",
    "df"
   ]
  },
  {
   "cell_type": "markdown",
   "id": "1bb3792f",
   "metadata": {},
   "source": [
    "Przykład 2: Różne indeksy dla poszczególnych serii danych"
   ]
  },
  {
   "cell_type": "code",
   "execution_count": null,
   "id": "d17eb9bc",
   "metadata": {},
   "outputs": [],
   "source": [
    "s1 = pd.Series(range(6))\n",
    "s2 = s1 ** s1\n",
    "# Zmieniamy indeks s2\n",
    "s2.index = s2.index + 3\n",
    "df = pd.concat([s1, s2], axis=1)\n",
    "df"
   ]
  },
  {
   "cell_type": "markdown",
   "id": "bb6138a0",
   "metadata": {},
   "source": [
    "Przykład 3:"
   ]
  },
  {
   "cell_type": "code",
   "execution_count": null,
   "id": "962e941e",
   "metadata": {},
   "outputs": [],
   "source": [
    "s3 = pd.Series({'Tomek':1, 'Ala':4, 'Ola':9})\n",
    "s4 = pd.Series({'Kasia':3, 'Ala':2, 'Tomek':5})\n",
    "df = pd.concat({'A':s3, 'B':s4}, axis=1)\n",
    "df"
   ]
  },
  {
   "cell_type": "markdown",
   "id": "ea18f278",
   "metadata": {},
   "source": [
    "Co mogliśmy zaobserwować?\n",
    "\n",
    "- Indeksy poszczególnych serii danych były uzgadniane a brakujące wartości dla poszczególnych elementów indeksu uzupełniane NaN.\n",
    "- Kolejność elementów w wynikowym obiekcie klasy DataFrame mogła ulec zmianie w stosunku do kolejności w wejściowych seriach danych."
   ]
  },
  {
   "cell_type": "markdown",
   "id": "55917858",
   "metadata": {},
   "source": [
    "Obiekt klasy DataFrame możemy też utworzyć wczytując dane z pliku, np. w formacie CSV:"
   ]
  },
  {
   "cell_type": "code",
   "execution_count": null,
   "id": "4a2502b0",
   "metadata": {},
   "outputs": [],
   "source": [
    "import csv\n",
    "\n",
    "with open('kraje_dane.csv', 'w', newline='') as file:\n",
    "    writer = csv.writer(file)\n",
    "    field = [\"Kraj\", \"Stolica\", \"Populacja\"]\n",
    "    writer.writerow(field)\n",
    "    writer.writerow(['Belgia', 'Bruksela', 11190846])\n",
    "    writer.writerow(['Indie', 'New Delhi', 1303171035])\n",
    "    writer.writerow(['Brazylia', 'Brasilia', 207847528])"
   ]
  },
  {
   "cell_type": "code",
   "execution_count": null,
   "id": "1b7d9627",
   "metadata": {},
   "outputs": [],
   "source": [
    "df = pd.read_csv('kraje_dane.csv', header=0)\n",
    "df"
   ]
  },
  {
   "cell_type": "markdown",
   "id": "6d8e56eb",
   "metadata": {},
   "source": [
    "Obiekt klasy DataFrame możemy skonwertować to tablicy NumPy za pomocą metody pandas.DataFrame.to_numpy():"
   ]
  },
  {
   "cell_type": "code",
   "execution_count": null,
   "id": "3cc9b466",
   "metadata": {},
   "outputs": [],
   "source": [
    "df_np = df.to_numpy()\n",
    "df_np"
   ]
  },
  {
   "cell_type": "markdown",
   "id": "5533f32e",
   "metadata": {},
   "source": [
    "lub za pomocą atrybutu [pandas.DataFrame.values](https://pandas.pydata.org/docs/reference/api/pandas.DataFrame.values.html):"
   ]
  },
  {
   "cell_type": "code",
   "execution_count": null,
   "id": "e5fcf43b",
   "metadata": {},
   "outputs": [],
   "source": [
    "df.values"
   ]
  },
  {
   "cell_type": "markdown",
   "id": "d42edefb",
   "metadata": {},
   "source": [
    "W łatwy sposób możemy podmienić zawartość kolumn w obiekcie DataFrame:"
   ]
  },
  {
   "cell_type": "code",
   "execution_count": null,
   "id": "8bae2261",
   "metadata": {},
   "outputs": [],
   "source": [
    "df[['Stolica', 'Populacja']] = df[['Populacja', 'Stolica']]\n",
    "df"
   ]
  },
  {
   "cell_type": "markdown",
   "id": "1ca1063e",
   "metadata": {},
   "source": [
    "Tylko, że w tym przypadku nie ma to sensu. Dlatego przywracamy pierwotną postać:"
   ]
  },
  {
   "cell_type": "code",
   "execution_count": null,
   "id": "c608a5af",
   "metadata": {},
   "outputs": [],
   "source": [
    "df[['Stolica', 'Populacja']] = df[['Populacja', 'Stolica']]\n",
    "df"
   ]
  },
  {
   "cell_type": "markdown",
   "id": "44ed6b9c",
   "metadata": {},
   "source": [
    "---\n",
    "Wczytamy teraz słynny zbiór danych z pomiarami kwiatów irysa, udostępniony po raz pierwszy przez Ronalda Fishera w roku 1936. Jest to jeden z najbardziej znanych zbiorów w analizie danych, stosowany do konstruowania modeli do rozwiązywania zadania klasyfikacji. Zbiór jest udostępniony m. in. w repozytorium [UC Irvine Machine Learning Repository](https://archive.ics.uci.edu/dataset/53/iris).\n",
    "\n",
    "Zbiór składa się ze 150 obserwacji, po 50 dla każdego z trzech gatunków kwiatów irysa: irys (kosaciec) szczecinkowaty (ang. *setosa*), irys wirginijski (ang. *virginica*) i irys różnobarwny (ang. *versicolor*). Mierzone były\n",
    "4 cechy (w centymetrach): długości i szerokości działki kielicha (ang. *sepal*) oraz płatka (ang. *petal*).\n",
    "\n",
    "<center>\n",
    "<div>\n",
    "<img src=\"img/iris1.png\" width=\"400\"><img src=\"img/iris2.jpg\" width=\"150\">\n",
    "</div>\n",
    "</center>"
   ]
  },
  {
   "cell_type": "code",
   "execution_count": null,
   "id": "99eed66c",
   "metadata": {},
   "outputs": [],
   "source": [
    "url = 'https://archive.ics.uci.edu/ml/machine-learning-databases/iris/iris.data'\n",
    "df = pd.read_csv(url, header=None)\n",
    "df.columns = ['sepal length','sepal width','petal length','petal width','class']"
   ]
  },
  {
   "cell_type": "markdown",
   "id": "67a04484",
   "metadata": {},
   "source": [
    "Wypiszmy informacje o utworzonej ramce danych. "
   ]
  },
  {
   "cell_type": "code",
   "execution_count": null,
   "id": "4b836b6c",
   "metadata": {},
   "outputs": [],
   "source": [
    "df.info()"
   ]
  },
  {
   "cell_type": "markdown",
   "id": "49826cd7",
   "metadata": {},
   "source": [
    "W szczególności widzimy, że nasz zbiór danych nie zawiera brakujących danych.\n",
    "\n",
    "Wypiszmy pierwszych kilka wierszy:"
   ]
  },
  {
   "cell_type": "code",
   "execution_count": null,
   "id": "dfe83574",
   "metadata": {},
   "outputs": [],
   "source": [
    "df.head()"
   ]
  },
  {
   "cell_type": "markdown",
   "id": "a5864296",
   "metadata": {},
   "source": [
    "i kilka ostatnich wierszy: "
   ]
  },
  {
   "cell_type": "code",
   "execution_count": null,
   "id": "38ab9528",
   "metadata": {},
   "outputs": [],
   "source": [
    "df.tail()"
   ]
  },
  {
   "cell_type": "markdown",
   "id": "7117cf69",
   "metadata": {},
   "source": [
    "W łatwy sposób możemy też policzyć podstawowe statystyki dla poszczególnych kolumn zawierających dane liczbowe:"
   ]
  },
  {
   "cell_type": "code",
   "execution_count": null,
   "id": "ac17c673",
   "metadata": {},
   "outputs": [],
   "source": [
    "df.describe()"
   ]
  },
  {
   "cell_type": "markdown",
   "id": "570c5336",
   "metadata": {},
   "source": [
    "Mamy możliwość wybrania pojedynczej kolumny\n",
    "\n",
    "- do serii danych:"
   ]
  },
  {
   "cell_type": "code",
   "execution_count": null,
   "id": "50448acb",
   "metadata": {},
   "outputs": [],
   "source": [
    "df['sepal length']"
   ]
  },
  {
   "cell_type": "markdown",
   "id": "883ab686",
   "metadata": {},
   "source": [
    "- do ramki danych (zwróćmy uwagę na użycie podwójnego nawiasowania):"
   ]
  },
  {
   "cell_type": "code",
   "execution_count": null,
   "id": "51c55272",
   "metadata": {},
   "outputs": [],
   "source": [
    "df[['sepal length']]"
   ]
  },
  {
   "cell_type": "markdown",
   "id": "d4d94bfc",
   "metadata": {},
   "source": [
    "W przypadku wyboru więcej niż jednej kolumny, musimy użyć podwójnego nawiasowania: "
   ]
  },
  {
   "cell_type": "code",
   "execution_count": null,
   "id": "03acb2f6",
   "metadata": {},
   "outputs": [],
   "source": [
    "df[['sepal length', 'petal width']]"
   ]
  },
  {
   "cell_type": "markdown",
   "id": "eba91645",
   "metadata": {},
   "source": [
    "To już nie zadziała:"
   ]
  },
  {
   "cell_type": "code",
   "execution_count": null,
   "id": "bd6c1219",
   "metadata": {},
   "outputs": [],
   "source": [
    "df['sepal length', 'petal width']"
   ]
  },
  {
   "cell_type": "markdown",
   "id": "56a310f8",
   "metadata": {},
   "source": [
    "Możemy dokonywać wyboru kolumn za pomocą zakresu etykiet lub wartości boolowskich:"
   ]
  },
  {
   "cell_type": "code",
   "execution_count": null,
   "id": "145e700a",
   "metadata": {},
   "outputs": [],
   "source": [
    "df.loc[:, 'sepal length':'petal length']"
   ]
  },
  {
   "cell_type": "code",
   "execution_count": null,
   "id": "448b8138",
   "metadata": {},
   "outputs": [],
   "source": [
    "df.loc[:, [False, False, True, False, True]]"
   ]
  },
  {
   "cell_type": "markdown",
   "id": "da1a1ddc",
   "metadata": {},
   "source": [
    "Wiersze mogą być wybierane za pomocą wartości indeksu:"
   ]
  },
  {
   "cell_type": "code",
   "execution_count": null,
   "id": "9f5092b5",
   "metadata": {},
   "outputs": [],
   "source": [
    "idx = df[df['petal length'] <= 2].index\n",
    "print(df.loc[idx])"
   ]
  },
  {
   "cell_type": "code",
   "execution_count": null,
   "id": "b75201f7",
   "metadata": {},
   "outputs": [],
   "source": [
    "df['petal length'] <= 2"
   ]
  },
  {
   "cell_type": "markdown",
   "id": "ea6ab03d",
   "metadata": {},
   "source": [
    "Możemy dostawać się do konkretnych elementów ramki danych za pomocą standardowych indeksów całkowitoliczbowych korzystając z metody [pandas.DataFrame.iloc](https://pandas.pydata.org/docs/reference/api/pandas.DataFrame.iloc.html):"
   ]
  },
  {
   "cell_type": "code",
   "execution_count": null,
   "id": "3f907b42",
   "metadata": {},
   "outputs": [],
   "source": [
    "sub_df = df.iloc[:5,:5]\n",
    "sub_df"
   ]
  },
  {
   "cell_type": "markdown",
   "id": "ac2d56d2",
   "metadata": {},
   "source": [
    "Możemy też zmienić wartość konkretnego elementu: "
   ]
  },
  {
   "cell_type": "code",
   "execution_count": null,
   "id": "6606e655",
   "metadata": {},
   "outputs": [],
   "source": [
    "sub_df.iloc[2,1] = -3.2\n",
    "sub_df"
   ]
  },
  {
   "cell_type": "markdown",
   "id": "a9bde876",
   "metadata": {},
   "source": [
    "Zobaczmy czy nasze przypisanie spowodowało zmiany w df:"
   ]
  },
  {
   "cell_type": "code",
   "execution_count": null,
   "id": "0df1fc07",
   "metadata": {},
   "outputs": [],
   "source": [
    "df.head()"
   ]
  },
  {
   "cell_type": "markdown",
   "id": "8235efff",
   "metadata": {},
   "source": [
    "Nie, a więc df.iloc utworzyło kopię zadanego fragmentu ramki danych!"
   ]
  },
  {
   "cell_type": "markdown",
   "id": "cff5b282",
   "metadata": {},
   "source": [
    "Możemy usunąć kolumnę z ramki danych w następujący sposób:"
   ]
  },
  {
   "cell_type": "code",
   "execution_count": null,
   "id": "2f12d21b",
   "metadata": {},
   "outputs": [],
   "source": [
    "removed_col = sub_df.pop('sepal width')\n",
    "removed_col"
   ]
  },
  {
   "cell_type": "code",
   "execution_count": null,
   "id": "aad4a850",
   "metadata": {},
   "outputs": [],
   "source": [
    "sub_df"
   ]
  },
  {
   "cell_type": "markdown",
   "id": "bc9e9ee8",
   "metadata": {},
   "source": [
    "Możemy iterować po kolumnach ramki danych:"
   ]
  },
  {
   "cell_type": "code",
   "execution_count": null,
   "id": "6d63013e",
   "metadata": {},
   "outputs": [],
   "source": [
    "for (name, series) in df.items():\n",
    "    print('Nazwa kolumny: ' + str(name))\n",
    "    print('Trzecia wartość w kolumnie: ' + str(series.iat[2]) + '\\n')"
   ]
  },
  {
   "cell_type": "markdown",
   "id": "b6500358",
   "metadata": {},
   "source": [
    "lub po wierszach:"
   ]
  },
  {
   "cell_type": "code",
   "execution_count": null,
   "id": "135507d2",
   "metadata": {},
   "outputs": [],
   "source": [
    "for (row_index, series) in df.iloc[:5,:].iterrows():\n",
    "    print(f\"Indeks wiersza: {row_index}\")\n",
    "    print(f\"Pierwszy element w wierszu: {series.iat[0]}\")"
   ]
  },
  {
   "cell_type": "markdown",
   "id": "36abcfbe",
   "metadata": {},
   "source": [
    "---\n",
    "\n",
    "## 2. Przykłady operacji matematycznych na kolumnach ramki danych w pandas"
   ]
  },
  {
   "cell_type": "markdown",
   "id": "beede48b",
   "metadata": {},
   "source": [
    "Suma elementów w kolumnie"
   ]
  },
  {
   "cell_type": "code",
   "execution_count": null,
   "id": "3aedf3a3",
   "metadata": {},
   "outputs": [],
   "source": [
    "df['petal length'].sum()"
   ]
  },
  {
   "cell_type": "markdown",
   "id": "503a1fd8",
   "metadata": {},
   "source": [
    "Iloczyn elementów w kolumnie"
   ]
  },
  {
   "cell_type": "code",
   "execution_count": null,
   "id": "43a8d013",
   "metadata": {},
   "outputs": [],
   "source": [
    "df['petal length'].prod()"
   ]
  },
  {
   "cell_type": "markdown",
   "id": "90301f7e",
   "metadata": {},
   "source": [
    "Najmniejsza wartość w kolumnie"
   ]
  },
  {
   "cell_type": "code",
   "execution_count": null,
   "id": "19df1564",
   "metadata": {},
   "outputs": [],
   "source": [
    "df['petal length'].min()"
   ]
  },
  {
   "cell_type": "markdown",
   "id": "a87fd3db",
   "metadata": {},
   "source": [
    "Wartość średnia wartości w kolumnie"
   ]
  },
  {
   "cell_type": "code",
   "execution_count": null,
   "id": "380efc90",
   "metadata": {},
   "outputs": [],
   "source": [
    "df['petal length'].mean()"
   ]
  },
  {
   "cell_type": "markdown",
   "id": "88132e9d",
   "metadata": {},
   "source": [
    "Mediana wartości w kolumnie"
   ]
  },
  {
   "cell_type": "code",
   "execution_count": null,
   "id": "400d2a89",
   "metadata": {},
   "outputs": [],
   "source": [
    "df['petal length'].median()"
   ]
  },
  {
   "cell_type": "markdown",
   "id": "cc2450dd",
   "metadata": {},
   "source": [
    "Podstawowe statystyki dla wartości w kolumnie"
   ]
  },
  {
   "cell_type": "code",
   "execution_count": null,
   "id": "016031bb",
   "metadata": {},
   "outputs": [],
   "source": [
    "df['petal length'].describe()"
   ]
  },
  {
   "cell_type": "markdown",
   "id": "f074faa5",
   "metadata": {},
   "source": [
    "Indeks wierszowy dla wartości minimalnej w kolumnie"
   ]
  },
  {
   "cell_type": "code",
   "execution_count": null,
   "id": "770be19d",
   "metadata": {},
   "outputs": [],
   "source": [
    "df['petal length'].idxmin()"
   ]
  },
  {
   "cell_type": "markdown",
   "id": "5f15d643",
   "metadata": {},
   "source": [
    "i dla wartości maksymalnej"
   ]
  },
  {
   "cell_type": "code",
   "execution_count": null,
   "id": "0b7456a1",
   "metadata": {},
   "outputs": [],
   "source": [
    "df['petal length'].idxmax()"
   ]
  },
  {
   "cell_type": "markdown",
   "id": "9b5858b8",
   "metadata": {},
   "source": [
    "---\n",
    "## 3. Przykłady sortowania ramki danych w pandas"
   ]
  },
  {
   "cell_type": "code",
   "execution_count": null,
   "id": "fba11560",
   "metadata": {},
   "outputs": [],
   "source": [
    "df = pd.DataFrame({'col1': ['A', 'A', 'B', np.nan, 'D', 'C'],\n",
    "                   'col2': [2, 1, 9, 8, 7, 4],\n",
    "                   'col3': [0, 1, 9, 4, 2, 3],\n",
    "                   #'col4': ['a', 'B', 'c', 'D', 'e', 'F']\n",
    "                   'col4': ['b', 'a', 'c', 'D', 'e', 'F']\n",
    "})\n",
    "df"
   ]
  },
  {
   "cell_type": "markdown",
   "id": "7ed8f5f3",
   "metadata": {},
   "source": [
    "Sortowanie ramki danych według wybranej kolumny"
   ]
  },
  {
   "cell_type": "code",
   "execution_count": null,
   "id": "86bd9af8",
   "metadata": {},
   "outputs": [],
   "source": [
    "df.sort_values(by=['col4'])"
   ]
  },
  {
   "cell_type": "markdown",
   "id": "22129140",
   "metadata": {},
   "source": [
    "Sortowanie ramki danych według kilku kolumn"
   ]
  },
  {
   "cell_type": "code",
   "execution_count": null,
   "id": "96d79121",
   "metadata": {},
   "outputs": [],
   "source": [
    "df.sort_values(by=['col1', 'col2'])"
   ]
  },
  {
   "cell_type": "markdown",
   "id": "38abdefd",
   "metadata": {},
   "source": [
    "Sortowanie malejąco według określonej kolumny z wartościami NaN na pierwszych pozycjach:"
   ]
  },
  {
   "cell_type": "code",
   "execution_count": null,
   "id": "9965d87e",
   "metadata": {},
   "outputs": [],
   "source": [
    "df.sort_values(by='col1', ascending=False, na_position='first')"
   ]
  },
  {
   "cell_type": "markdown",
   "id": "789e3bb4",
   "metadata": {},
   "source": [
    "Sortowanie z wykorzystaniem funkcji zwracającej wartość klucza:"
   ]
  },
  {
   "cell_type": "code",
   "execution_count": null,
   "id": "0392bbbf",
   "metadata": {},
   "outputs": [],
   "source": [
    "df.sort_values(by='col4', key=lambda col: col.str.lower())"
   ]
  },
  {
   "cell_type": "code",
   "execution_count": null,
   "id": "66e3f3e0",
   "metadata": {},
   "outputs": [],
   "source": [
    "df['col4'].str.lower()"
   ]
  },
  {
   "cell_type": "code",
   "execution_count": null,
   "id": "87a6a17d",
   "metadata": {},
   "outputs": [],
   "source": [
    "df.sort_values(by=['col1','col4'], key=lambda col: col.str.lower())"
   ]
  },
  {
   "cell_type": "markdown",
   "id": "cc252bc0",
   "metadata": {},
   "source": [
    "**Uwaga:** Argumentami funkcji lambda są całe serie danych odpowiadające poszczególnym kolumnom z listy 'by' a nie poszczególne elementy w kolumnach. Możemy to zaobserwować tutaj:"
   ]
  },
  {
   "cell_type": "code",
   "execution_count": null,
   "id": "af759451-4a5b-4e71-be23-2deae2d585bc",
   "metadata": {},
   "outputs": [],
   "source": [
    "df.sort_values(by=['col1','col4'], key=lambda col: (print(col),col.str.lower())[1])"
   ]
  },
  {
   "cell_type": "markdown",
   "id": "ad9fb246-d045-4a62-bdeb-e60f724c72de",
   "metadata": {},
   "source": [
    "Argument key jest podobny do tego we wbudowanej funkcji [sorted()](https://docs.python.org/3/library/functions.html#sorted). Ale jest pewna istotna różnica. Funkcja podawana jako key w przypadku df.sort_values() powinna być zwektoryzowana. Powinna przyjmować serię danych jako argument i zwracać serię danych o tym samym kształcie co argument. Funkcja ta jest aplikowana niezależnie do każdej kolumny wymienionej w by."
   ]
  },
  {
   "cell_type": "markdown",
   "id": "504630e7",
   "metadata": {},
   "source": [
    "### Ćwiczenie 2\n",
    "\n",
    "Dana jest ramka danych oraz lista zawierająca wszystkie unikatowe wartości jednej z kolumn ramki. Posortuj wiersze ramki tak, aby wartości w tej kolumnie występowały w tym samym porządku co na podanej liście.\n",
    "\n",
    "Przykład:\n",
    "Dla ramki danych\n",
    "\n",
    "<table>\n",
    "  <tr>\n",
    "    <th>colA</th>\n",
    "    <th>colB</th>\n",
    "  </tr>\n",
    "  <tr>\n",
    "    <th>A</th>\n",
    "    <th>1</th>\n",
    "  </tr>\n",
    "  <tr>\n",
    "    <th>B</th>\n",
    "    <th>2</th>\n",
    "  </tr>\n",
    "  <tr>\n",
    "    <th>C</th>\n",
    "    <th>3</th>\n",
    "  </tr>\n",
    "  <tr>\n",
    "    <th>D</th>\n",
    "    <th>4</th>\n",
    "  </tr>\n",
    "</table>\n",
    "\n",
    "i listy ['C','A','D','B'] dla kolumny colA wynikiem powinno być\n",
    "\n",
    "<table>\n",
    "  <tr>\n",
    "    <th>colA</th>\n",
    "    <th>colB</th>\n",
    "  </tr>\n",
    "  <tr>\n",
    "    <th>C</th>\n",
    "    <th>3</th>\n",
    "  </tr>\n",
    "  <tr>\n",
    "    <th>A</th>\n",
    "    <th>1</th>\n",
    "  </tr>\n",
    "  <tr>\n",
    "    <th>D</th>\n",
    "    <th>4</th>\n",
    "  </tr>\n",
    "  <tr>\n",
    "    <th>B</th>\n",
    "    <th>2</th>\n",
    "  </tr>\n",
    "</table>"
   ]
  },
  {
   "cell_type": "code",
   "execution_count": null,
   "id": "c33d92f8",
   "metadata": {},
   "outputs": [],
   "source": []
  },
  {
   "cell_type": "markdown",
   "id": "6c6bc637",
   "metadata": {},
   "source": [
    "---\n",
    "## 4. Złączenia ramek danych w pandas"
   ]
  },
  {
   "cell_type": "markdown",
   "id": "bb25d27b",
   "metadata": {},
   "source": [
    "Istnieją następujące sposoby złączania ramek danych w pandas:\n",
    "- za pomocą metod [pandas.DataFrame.merge](https://pandas.pydata.org/docs/reference/api/pandas.DataFrame.merge.html) lub [pandas.DataFrame.join](https://pandas.pydata.org/docs/reference/api/pandas.DataFrame.join.html#pandas.DataFrame.join) (bazodanowe SQL join);\n",
    "- za pomocą funkcji [pandas.concat](https://pandas.pydata.org/docs/reference/api/pandas.concat.html) (dołączanie kolumn lub wierszy);\n",
    "- za pomocą metody [pandas.DataFrame.combine_first](https://pandas.pydata.org/docs/reference/api/pandas.DataFrame.combine_first.html)."
   ]
  },
  {
   "cell_type": "code",
   "execution_count": null,
   "id": "54b0a553",
   "metadata": {},
   "outputs": [],
   "source": [
    "df1 = pd.DataFrame({'lkey': ['foo', 'bar', 'baz', 'foo'],\n",
    "                    \n",
    "                    'value': [1, 2, 3, 5]})\n",
    "\n",
    "df2 = pd.DataFrame({'rkey': ['foo', 'bar', 'baz', 'foo'],\n",
    "\n",
    "                    'value': [5, 6, 7, 8]})"
   ]
  },
  {
   "cell_type": "markdown",
   "id": "fda7321c",
   "metadata": {},
   "source": [
    "Bazodanowe złączenie po indeksach (SQL full outer join):"
   ]
  },
  {
   "cell_type": "code",
   "execution_count": null,
   "id": "df6effc7",
   "metadata": {},
   "outputs": [],
   "source": [
    "df_merged = pd.merge(left=df1, right=df2, left_index=True, right_index=True)\n",
    "df_merged"
   ]
  },
  {
   "cell_type": "markdown",
   "id": "d9ce900c",
   "metadata": {},
   "source": [
    "Bazodanowe złączenie po określonych kolumnach (kluczach):"
   ]
  },
  {
   "cell_type": "code",
   "execution_count": null,
   "id": "51a676a0",
   "metadata": {},
   "outputs": [],
   "source": [
    "df1.merge(df2, how='left', left_on='lkey', right_on='rkey')"
   ]
  },
  {
   "cell_type": "code",
   "execution_count": null,
   "id": "3715dc17",
   "metadata": {},
   "outputs": [],
   "source": [
    "df1.merge(df2, how='right', left_on='lkey', right_on='rkey')"
   ]
  },
  {
   "cell_type": "markdown",
   "id": "9d13ed88",
   "metadata": {},
   "source": [
    "Zwróćmy uwagę, jak zostały zmienione etykiety 'value' w odpowiednich kolumnach.\n",
    "\n",
    "Przemianowywanie kolumn o takich samych etykietach można dostosować do własnych potrzeb:"
   ]
  },
  {
   "cell_type": "code",
   "execution_count": null,
   "id": "8fb99aba",
   "metadata": {},
   "outputs": [],
   "source": [
    "df1.merge(df2, how='left', left_on='lkey', right_on='rkey', suffixes=('_left', '_right'))"
   ]
  },
  {
   "cell_type": "markdown",
   "id": "114d117a",
   "metadata": {},
   "source": [
    "Przyjrzymy się teraz różnym rodzajom złączeń bazodanowych:"
   ]
  },
  {
   "cell_type": "code",
   "execution_count": null,
   "id": "29cd096b",
   "metadata": {},
   "outputs": [],
   "source": [
    "df1 = pd.DataFrame({'a': ['foo', 'bar'], 'b': [1, 2]})\n",
    "df2 = pd.DataFrame({'a': ['foo', 'baz'], 'c': [3, 4]})\n",
    "print(df1)\n",
    "print(df2)"
   ]
  },
  {
   "cell_type": "markdown",
   "id": "ce913845",
   "metadata": {},
   "source": [
    "Odpowiednik 'SQL full outer join'; używa teoriomnogościowej sumy zbiorów kluczy, która jest sortowana leksykograficznie:"
   ]
  },
  {
   "cell_type": "code",
   "execution_count": null,
   "id": "f80e5b6e",
   "metadata": {},
   "outputs": [],
   "source": [
    "df1.merge(df2, how='outer', on='a')"
   ]
  },
  {
   "cell_type": "markdown",
   "id": "122fee57",
   "metadata": {},
   "source": [
    "Odpowiednik 'SQL inner join'; używa teoriomnogościwego iloczynu (przecięcia) zbiorów kluczy, zachowując kolejność kluczy w lewej ramce:"
   ]
  },
  {
   "cell_type": "code",
   "execution_count": null,
   "id": "6ef1740b",
   "metadata": {},
   "outputs": [],
   "source": [
    "#pd.merge(left=df1, right=df2, how='inner', on='a')\n",
    "df1.merge(df2, how='inner', on='a')"
   ]
  },
  {
   "cell_type": "markdown",
   "id": "1d2ff0d8",
   "metadata": {},
   "source": [
    "Odpowiednik 'SQL left outer join'; używa wyłącznie kluczy z lewej ramki zachowując ich kolejność:"
   ]
  },
  {
   "cell_type": "code",
   "execution_count": null,
   "id": "b31de181",
   "metadata": {},
   "outputs": [],
   "source": [
    "#pd.merge(left=df1, right=df2, how='left', on='a')\n",
    "df1.merge(df2, how='left', on='a')"
   ]
  },
  {
   "cell_type": "markdown",
   "id": "757391fd",
   "metadata": {},
   "source": [
    "Odpowiednik 'SQL right outer join', używa wyłącznie kluczy prawej ramki zachowując ich kolejność:"
   ]
  },
  {
   "cell_type": "code",
   "execution_count": null,
   "id": "2bfbfddb",
   "metadata": {},
   "outputs": [],
   "source": [
    "#pd.merge(left=df1, right=df2, how='right', on='a')\n",
    "df1.merge(df2, how='right', on='a')"
   ]
  },
  {
   "cell_type": "markdown",
   "id": "f214a824",
   "metadata": {},
   "source": [
    "Iloczyn kartezjański obu ramek danych, który zachowuje kolejność kluczy lewej ramki:"
   ]
  },
  {
   "cell_type": "code",
   "execution_count": null,
   "id": "bb063cec",
   "metadata": {},
   "outputs": [],
   "source": [
    "df1.merge(df2, how='cross')"
   ]
  },
  {
   "cell_type": "markdown",
   "id": "a0431de2",
   "metadata": {},
   "source": [
    "Złączenia można realizować także za pomocą metody [pandas.DataFrame.join](https://pandas.pydata.org/docs/reference/api/pandas.DataFrame.join.html#pandas.DataFrame.join), która domyślnie realizuje złączenie po indeksach (w odróżnieniu od merge, która domyślnie dokonuje złączenia po wspólnych kolumnach):"
   ]
  },
  {
   "cell_type": "code",
   "execution_count": null,
   "id": "ff0c6939",
   "metadata": {},
   "outputs": [],
   "source": [
    "df1.join(other=df2, how='outer', lsuffix='_lewa', rsuffix='_prawa')"
   ]
  },
  {
   "cell_type": "markdown",
   "id": "8157e3c0",
   "metadata": {},
   "source": [
    "Następująca próba złączenia nie zadziała, gdyż próbuje dokonać złączenia na kolumnie df1.'a' i indeksie df2, których elementy są różnych typów: "
   ]
  },
  {
   "cell_type": "code",
   "execution_count": null,
   "id": "85cf4e6b",
   "metadata": {},
   "outputs": [],
   "source": [
    "df1.join(other=df2, on=['a'], how='outer', lsuffix='_lewa', rsuffix='_prawa')"
   ]
  },
  {
   "cell_type": "markdown",
   "id": "81515c6d",
   "metadata": {},
   "source": [
    "Za pomocą funkcji [pandas.concat](https://pandas.pydata.org/docs/reference/api/pandas.concat.html) możemy połączyć ramki danych w jedną ramkę kolumnami:"
   ]
  },
  {
   "cell_type": "code",
   "execution_count": null,
   "id": "14d0c2c7",
   "metadata": {},
   "outputs": [],
   "source": [
    "pd.concat([df1,df2],axis=1)"
   ]
  },
  {
   "cell_type": "markdown",
   "id": "72334a00",
   "metadata": {},
   "source": [
    "bądź wierszami:"
   ]
  },
  {
   "cell_type": "code",
   "execution_count": null,
   "id": "1bbc2c74",
   "metadata": {},
   "outputs": [],
   "source": [
    "pd.concat([df1,df2],axis=0)"
   ]
  },
  {
   "cell_type": "markdown",
   "id": "96a236c0",
   "metadata": {},
   "source": [
    "Przy wierszowym łączeniu ramek przydatna może okazać się możliwość ignorowania wartości indeksów łączonych ramek danych. W takim przypadku kolejne wiersze będą inkesowane liczbami od 0 do n-1:"
   ]
  },
  {
   "cell_type": "code",
   "execution_count": null,
   "id": "78bbb674",
   "metadata": {},
   "outputs": [],
   "source": [
    "pd.concat([df1,df2],axis=0,ignore_index=True)"
   ]
  },
  {
   "cell_type": "markdown",
   "id": "3d7fa2af",
   "metadata": {},
   "source": [
    "Domyślną wartością parametru join jest 'outer'. Możemy wywołać funkcję concat z argumentem join o wartości 'inner', co spowoduje uwzględnienie w wyniku naszego wywołania tylko kolumn o wspólnych etykiach w łączonych ramkach danych:"
   ]
  },
  {
   "cell_type": "code",
   "execution_count": null,
   "id": "a547d875",
   "metadata": {},
   "outputs": [],
   "source": [
    "pd.concat([df1,df2],axis=0,join='inner')"
   ]
  },
  {
   "cell_type": "markdown",
   "id": "d7936f08",
   "metadata": {},
   "source": [
    "W przypadku łaczenia wierszy zadziała to tak:"
   ]
  },
  {
   "cell_type": "code",
   "execution_count": null,
   "id": "a0474968",
   "metadata": {},
   "outputs": [],
   "source": [
    "df1 = pd.DataFrame({'a': ['foo', 'bar', 'abc'], 'b': [1, 2, 7]})\n",
    "df2 = pd.DataFrame({'a': ['foo', 'baz'], 'c': [3, 4]})\n",
    "print(df1)\n",
    "print(df2)\n",
    "pd.concat([df1,df2],axis=1,join='inner')"
   ]
  },
  {
   "cell_type": "markdown",
   "id": "f2749eb2",
   "metadata": {},
   "source": [
    "Metoda [pandas.DataFrame.combine_first](https://pandas.pydata.org/docs/reference/api/pandas.DataFrame.combine_first.html) pozwala na uzupełnianie brakujących wartości (NaN) danej ramki danych odpowiednimi wartościami z drugiej ramki danych:"
   ]
  },
  {
   "cell_type": "code",
   "execution_count": null,
   "id": "d90605fc",
   "metadata": {},
   "outputs": [],
   "source": [
    "df1 = pd.DataFrame({'A': [None, 0], 'B': [None, 4]})\n",
    "df2 = pd.DataFrame({'A': [1, 1], 'B': [3, 3]})\n",
    "print(df1)\n",
    "print(df2)\n",
    "df1.combine_first(df2)"
   ]
  },
  {
   "cell_type": "markdown",
   "id": "b4ba85eb",
   "metadata": {},
   "source": [
    "Wywołanie df1.combine_first(df2) łączy dwie ramki danych uzupełniając brakujące wartości w lokacjach ramki df1 istniejącymi wartościami w odpowiadających lokacjach ramki df2. Brakująca wartość pozostanie w df1 jeżeli nie ma określonej wartości w odpowiadającej lokacji w ramce df2.\n",
    "\n",
    "Indeksy kolumn i wierszy wynikowej ramki danych są teoriomnogościową sumą odpowiednich indeksów obu ramek."
   ]
  },
  {
   "cell_type": "code",
   "execution_count": null,
   "id": "40a2f5ba",
   "metadata": {},
   "outputs": [],
   "source": [
    "df1 = pd.DataFrame({'A': [None, 0], 'B': [4, None]})\n",
    "df2 = pd.DataFrame({'B': [3, 3], 'C': [1, 1]}, index=[1, 2])\n",
    "print(df1)\n",
    "print(df2)\n",
    "df1.combine_first(df2)"
   ]
  },
  {
   "cell_type": "markdown",
   "id": "2bdfa428",
   "metadata": {},
   "source": [
    "---\n",
    "## 5. Grupowanie w pandas"
   ]
  },
  {
   "cell_type": "markdown",
   "id": "066a5771",
   "metadata": {},
   "source": [
    "Mechanizm grupowania w pandas pozwala podzielić dane na grupy i zastosować funkcję agregującą do każdej z grup niezależnie.\n",
    "\n",
    "Metoda [pandas.DataFrame.groupby](https://pandas.pydata.org/docs/reference/api/pandas.DataFrame.groupby.html) zwraca obiekt groupby zawierający informacje o utworzonych grupach:"
   ]
  },
  {
   "cell_type": "code",
   "execution_count": null,
   "id": "5d32c60e",
   "metadata": {},
   "outputs": [],
   "source": [
    "df = pd.DataFrame({'Animal': ['Falcon', 'Falcon', 'Parrot', 'Parrot'],\n",
    "                   'Max Speed': [380., 370., 24., 26.]})\n",
    "df"
   ]
  },
  {
   "cell_type": "markdown",
   "id": "ea293174",
   "metadata": {},
   "source": [
    "Grupowanie za pomocą kolumny grupującej:"
   ]
  },
  {
   "cell_type": "code",
   "execution_count": null,
   "id": "dc7baf1a",
   "metadata": {},
   "outputs": [],
   "source": [
    "gb = df.groupby(['Animal'])\n",
    "gb"
   ]
  },
  {
   "cell_type": "markdown",
   "id": "d2b5312a",
   "metadata": {},
   "source": [
    "Wartością atrubytu .groups jest słownik reprezentujący grupy, gdzie klucze to wartości z kiolumny grupującej a wartości to odpowiadające tym wartościom wiersze:"
   ]
  },
  {
   "cell_type": "code",
   "execution_count": null,
   "id": "925faf9f",
   "metadata": {},
   "outputs": [],
   "source": [
    "gb.groups"
   ]
  },
  {
   "cell_type": "markdown",
   "id": "22250947",
   "metadata": {},
   "source": [
    "Iteracja po grupach (zwykle nie jest używana):"
   ]
  },
  {
   "cell_type": "code",
   "execution_count": null,
   "id": "9c0fa6ff",
   "metadata": {},
   "outputs": [],
   "source": [
    "for name, group in gb:\n",
    "    print (name)\n",
    "    print (group)"
   ]
  },
  {
   "cell_type": "code",
   "execution_count": null,
   "id": "0550af94",
   "metadata": {},
   "outputs": [],
   "source": [
    "# gb.get_group('Parrot') # Starsze wersje pandas\n",
    "gb.get_group(('Parrot',)) # W przyszłych wersjach pandas"
   ]
  },
  {
   "cell_type": "markdown",
   "id": "f3173b65",
   "metadata": {},
   "source": [
    "Możemy teraz policzyć średnie prędkości uzyskiwane przez poszczególne zwierzęta stosując funkcję agregującą, w naszym przypadku funkcję mean():"
   ]
  },
  {
   "cell_type": "code",
   "execution_count": null,
   "id": "3775b798",
   "metadata": {},
   "outputs": [],
   "source": [
    "gb.mean()"
   ]
  },
  {
   "cell_type": "markdown",
   "id": "0bf89ef3",
   "metadata": {},
   "source": [
    "Funkcja mean() zostanie zastosowana do każdej kolumny w każdej z grup niezależnie. Zobaczymy to jeszcze poniżej."
   ]
  },
  {
   "cell_type": "markdown",
   "id": "fc0e4fd4",
   "metadata": {},
   "source": [
    "Możemy też zastosować wiele funkcji agregujących do jednej kolumny."
   ]
  },
  {
   "cell_type": "code",
   "execution_count": null,
   "id": "22d1a6ce",
   "metadata": {},
   "outputs": [],
   "source": [
    "#df_result = gb.agg([np.sum, np.mean, np.std])\n",
    "df_result = gb.agg([\"sum\", \"mean\", \"std\"]) # W przyszłych wersjach pandas\n",
    "df_result"
   ]
  },
  {
   "cell_type": "markdown",
   "id": "9f34fc52",
   "metadata": {},
   "source": [
    "Wynikowa ramka danych posiada indeks hierarchiczny ([MultiIndex](https://pandas.pydata.org/docs/user_guide/advanced.html)) dla kolumn:"
   ]
  },
  {
   "cell_type": "code",
   "execution_count": null,
   "id": "4e03054b",
   "metadata": {},
   "outputs": [],
   "source": [
    "df_result.columns"
   ]
  },
  {
   "cell_type": "markdown",
   "id": "95e52798",
   "metadata": {},
   "source": [
    "Możemy też zastosować wiele (różnych) funkcji agregujących do wielu kolumn: "
   ]
  },
  {
   "cell_type": "code",
   "execution_count": null,
   "id": "dc69a735",
   "metadata": {},
   "outputs": [],
   "source": [
    "l = [[1, 2, 3], [1, 5, 4], [2, 0, 3], [1, 2, 2]]\n",
    "df_abc = pd.DataFrame(l, columns=[\"a\", \"b\", \"c\"])\n",
    "df_abc"
   ]
  },
  {
   "cell_type": "code",
   "execution_count": null,
   "id": "1cc7120d",
   "metadata": {},
   "outputs": [],
   "source": [
    "#df_abc.groupby('a').agg({'b': np.count_nonzero, 'c': [np.mean, np.sum]})\n",
    "df_abc.groupby('a').agg({'b': np.count_nonzero, 'c': [\"mean\", \"sum\"]}) # W przyszłości"
   ]
  },
  {
   "cell_type": "markdown",
   "id": "766830c3",
   "metadata": {},
   "source": [
    "Jeżeli kluczem grupy jest NA, wiersze/kolumny odpowiadające takiej grupie domyślnie zostaną pominięte. Aby to zmienić, należy wartość argumentu dropna ustawić na False. Przeanalizujemy to na przykładzie:"
   ]
  },
  {
   "cell_type": "code",
   "execution_count": null,
   "id": "72b23212",
   "metadata": {},
   "outputs": [],
   "source": [
    "l = [[1, 2, 3], [1, None, 4], [2, 1, 3], [1, 2, 2]]\n",
    "df = pd.DataFrame(l, columns=[\"a\", \"b\", \"c\"])\n",
    "df"
   ]
  },
  {
   "cell_type": "markdown",
   "id": "75d9c571",
   "metadata": {},
   "source": [
    "Pogrupujemy po kolumnie 'b' z domyślną wartością argumentu dropna:"
   ]
  },
  {
   "cell_type": "code",
   "execution_count": null,
   "id": "2456c7e6",
   "metadata": {},
   "outputs": [],
   "source": [
    "df.groupby(by=[\"b\"]).sum()"
   ]
  },
  {
   "cell_type": "markdown",
   "id": "fc26deff",
   "metadata": {},
   "source": [
    "W powyższym przykładzie funkcja agregującą sum() została zastosowana do wszystkich kolumn, tj. a i c, dla każdej z grup niezależnie. Możemy to zmienić wybierając kolumny, do których chcemy zastosować funkcję agregującą:"
   ]
  },
  {
   "cell_type": "code",
   "execution_count": null,
   "id": "8f10ffd8",
   "metadata": {},
   "outputs": [],
   "source": [
    "df.groupby(by=[\"b\"])[['c']].sum()"
   ]
  },
  {
   "cell_type": "markdown",
   "id": "dcdc31bb",
   "metadata": {},
   "source": [
    "Teraz zmienimy wartość dropna na False:"
   ]
  },
  {
   "cell_type": "code",
   "execution_count": null,
   "id": "f7ceb1b6",
   "metadata": {},
   "outputs": [],
   "source": [
    "df.groupby(by=[\"b\"], dropna=False).sum()"
   ]
  },
  {
   "cell_type": "markdown",
   "id": "1fd02d54",
   "metadata": {},
   "source": [
    "Możemy również grupować za pomocą poszczególnych poziomów indeksu hierarchicznego.\n",
    "\n",
    "Najpierw utworzymy indeks hierarchiczny z tablicy:"
   ]
  },
  {
   "cell_type": "code",
   "execution_count": null,
   "id": "477d7df5",
   "metadata": {},
   "outputs": [],
   "source": [
    "arrays = [['Falcon', 'Falcon', 'Parrot', 'Parrot'],\n",
    "          ['Captive', 'Wild', 'Captive', 'Wild']]\n",
    "index = pd.MultiIndex.from_arrays(arrays, names=('Animal', 'Type'))\n",
    "index"
   ]
  },
  {
   "cell_type": "markdown",
   "id": "67f75605",
   "metadata": {},
   "source": [
    "Następnie utworzymy ramkę danych z naszymi danymi indeksowaną indeksem hierarchicznym:"
   ]
  },
  {
   "cell_type": "code",
   "execution_count": null,
   "id": "999c8a65",
   "metadata": {},
   "outputs": [],
   "source": [
    "df = pd.DataFrame({'Max Speed': [390., 350., 30., 20.]}, index=index)\n",
    "df"
   ]
  },
  {
   "cell_type": "markdown",
   "id": "534b0a28",
   "metadata": {},
   "source": [
    "Pogrupujemy dane na podstawie pierwszego poziomu indeksu hierarchicznego:"
   ]
  },
  {
   "cell_type": "code",
   "execution_count": null,
   "id": "357d95ad",
   "metadata": {},
   "outputs": [],
   "source": [
    "df.groupby(level=0).groups"
   ]
  },
  {
   "cell_type": "markdown",
   "id": "93ba973d",
   "metadata": {},
   "source": [
    "a teraz na podstawie poziomu drugiego:"
   ]
  },
  {
   "cell_type": "code",
   "execution_count": null,
   "id": "9d1cff71",
   "metadata": {},
   "outputs": [],
   "source": [
    "df.groupby(level='Type').groups"
   ]
  },
  {
   "cell_type": "markdown",
   "id": "15ede97e",
   "metadata": {},
   "source": [
    "---\n",
    "## 6. Czas w pandas\n",
    "\n",
    "Tak jak było zapowiedziane wcześniej, na koniec wrócimy jeszcze do zagadnień związanych z czasem w pandas."
   ]
  },
  {
   "cell_type": "markdown",
   "id": "0d8fbec7",
   "metadata": {},
   "source": [
    "Pandas wprowadza trzy główne pojęcia związane z czasem:\n",
    "- Datetimes - konkretne daty i czasy wraz z informacją o strefie czasowej;\n",
    "- Timedeltas - bezwględne czasy trwania;\n",
    "- Timespans - przedziały czasowe określone poprzez czasy początkowy i końcowy oraz krok czasowy.\n",
    "- \n",
    "Podstawową klasą jest klasa [pandas.Timestamp](https://pandas.pydata.org/docs/reference/api/pandas.Timestamp.html#pandas.Timestamp), będąca podklasą klasy [datetime.datetime](https://docs.python.org/3/library/datetime.html#datetime.datetime) z biblioteki standardowej. Pozwala na tworzenie obiektów reprezentujących konkretną datę i czas wraz z informacją o strefie czasowej."
   ]
  },
  {
   "cell_type": "code",
   "execution_count": null,
   "id": "bcb61a3b",
   "metadata": {},
   "outputs": [],
   "source": [
    "pd.Timestamp(year=2023, month=12, day=17, hour=11)"
   ]
  },
  {
   "cell_type": "markdown",
   "id": "d6144a0a",
   "metadata": {},
   "source": [
    "Czas może być bardzo dokładny, tzn. określony z dokładnością co do nanosekundy:"
   ]
  },
  {
   "cell_type": "code",
   "execution_count": null,
   "id": "d199e6f2",
   "metadata": {},
   "outputs": [],
   "source": [
    "pd.Timestamp('2020-03-14T15:32:52.192548651', tz='UTC')"
   ]
  },
  {
   "cell_type": "markdown",
   "id": "bc18fb2f",
   "metadata": {},
   "source": [
    "Zobaczmy jak można konwertować czas z uwzględnieniem informacji o strefie czasowej:"
   ]
  },
  {
   "cell_type": "code",
   "execution_count": null,
   "id": "05b7a0a4",
   "metadata": {},
   "outputs": [],
   "source": [
    "ts = pd.Timestamp(year=2023, month=10, day=17, hour=11, tz=\"Europe/Warsaw\")\n",
    "ts"
   ]
  },
  {
   "cell_type": "markdown",
   "id": "ca242437",
   "metadata": {},
   "source": [
    "Konwersji można dokonać za pomocą metody [Timestamp.tz_convert()](https://pandas.pydata.org/docs/reference/api/pandas.Timestamp.tz_convert.html#pandas.Timestamp.tz_convert):"
   ]
  },
  {
   "cell_type": "code",
   "execution_count": null,
   "id": "88c5b600",
   "metadata": {},
   "outputs": [],
   "source": [
    "ts.tz_convert(\"US/Eastern\")"
   ]
  },
  {
   "cell_type": "markdown",
   "id": "427a76e6",
   "metadata": {},
   "source": [
    "albo [Timestamp.astimezone()](https://pandas.pydata.org/docs/reference/api/pandas.Timestamp.astimezone.html#pandas.Timestamp.astimezone):"
   ]
  },
  {
   "cell_type": "code",
   "execution_count": null,
   "id": "2724af8d",
   "metadata": {},
   "outputs": [],
   "source": [
    "ts.astimezone(\"US/Eastern\")"
   ]
  },
  {
   "cell_type": "markdown",
   "id": "d562fbb3",
   "metadata": {},
   "source": [
    "Możemy też wypisać datę i czas obiektu Timestamp w formacie POSIX, tj. w postaci czasu uniksowego, czyli liczbę sekund od początku 1970 roku [UTC](https://en.wikipedia.org/wiki/Coordinated_Universal_Time), tj. od chwili zwanej początkiem epoki Uniksa (ang. *Unix Epoch*), ale bez uwzględnienia [sekund przestępnych](https://pl.wikipedia.org/wiki/Sekunda_przest%C4%99pna):"
   ]
  },
  {
   "cell_type": "code",
   "execution_count": null,
   "id": "f72beba9",
   "metadata": {},
   "outputs": [],
   "source": [
    "ts.timestamp()"
   ]
  },
  {
   "cell_type": "markdown",
   "id": "64a0dfe8",
   "metadata": {},
   "source": [
    "Ciekawostka: możemy nawet wypisać datę i czas w postaci [dni juliańskich](https://pl.wikipedia.org/wiki/Data_julia%C5%84ska), czyli liczby dni, która upłynęła od godziny 12:00 czasu uniwersalnego (czasu południka zerowego) w dniu 1 stycznia roku 4713 p.n.e. według kalendarza juliańskiego (przedłużonego odpowiednio wstecz):"
   ]
  },
  {
   "cell_type": "code",
   "execution_count": null,
   "id": "815c200a",
   "metadata": {},
   "outputs": [],
   "source": [
    "ts.to_julian_date()"
   ]
  },
  {
   "cell_type": "markdown",
   "id": "9b31d4ee",
   "metadata": {},
   "source": [
    "Możemy odejmować obiekty klasy Timestamp jeżeli strefy czasowe obu obiektów są określone:"
   ]
  },
  {
   "cell_type": "code",
   "execution_count": null,
   "id": "96d5216f",
   "metadata": {},
   "outputs": [],
   "source": [
    "teraz = ts.today()\n",
    "print(teraz)"
   ]
  },
  {
   "cell_type": "markdown",
   "id": "5c761ce2",
   "metadata": {},
   "source": [
    "To nie zadziała:"
   ]
  },
  {
   "cell_type": "code",
   "execution_count": null,
   "id": "0b9f03c7",
   "metadata": {},
   "outputs": [],
   "source": [
    "teraz - ts"
   ]
  },
  {
   "cell_type": "markdown",
   "id": "3b711c94",
   "metadata": {},
   "source": [
    "ale po dookreśleniu strefy czasowej dla teraz już tak:"
   ]
  },
  {
   "cell_type": "code",
   "execution_count": null,
   "id": "140e9a59",
   "metadata": {},
   "outputs": [],
   "source": [
    "teraz = teraz.tz_localize(tz=\"Europe/Warsaw\")\n",
    "\n",
    "dt = teraz - ts\n",
    "dt"
   ]
  },
  {
   "cell_type": "markdown",
   "id": "b0128c4f",
   "metadata": {},
   "source": [
    "W rezultacie dostajemy obiekt klasy [Timedelta](https://pandas.pydata.org/docs/reference/api/pandas.Timedelta.html). I możemy go wykorzystać np. w taki oto sposób:"
   ]
  },
  {
   "cell_type": "code",
   "execution_count": null,
   "id": "c51f5c3d",
   "metadata": {},
   "outputs": [],
   "source": [
    "pd.Timestamp('2020-03-14T15:32:52.192548651', tz='UTC') + dt"
   ]
  }
 ],
 "metadata": {
  "kernelspec": {
   "display_name": "Python 3",
   "language": "python",
   "name": "python3"
  },
  "language_info": {
   "codemirror_mode": {
    "name": "ipython",
    "version": 3
   },
   "file_extension": ".py",
   "mimetype": "text/x-python",
   "name": "python",
   "nbconvert_exporter": "python",
   "pygments_lexer": "ipython3",
   "version": "3.6.9"
  }
 },
 "nbformat": 4,
 "nbformat_minor": 5
}
